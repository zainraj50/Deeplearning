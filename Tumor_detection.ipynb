{
  "nbformat": 4,
  "nbformat_minor": 0,
  "metadata": {
    "colab": {
      "name": "Tumor detection.ipynb",
      "provenance": [],
      "collapsed_sections": []
    },
    "kernelspec": {
      "name": "python3",
      "display_name": "Python 3"
    },
    "accelerator": "GPU"
  },
  "cells": [
    {
      "cell_type": "code",
      "metadata": {
        "id": "jORC3rITngcl",
        "colab_type": "code",
        "colab": {
          "base_uri": "https://localhost:8080/",
          "height": 1000
        },
        "outputId": "e5c97d5f-eebb-4ce4-e83e-513cd89cf50d"
      },
      "source": [
        "! unzip brain_tumor_dataset.zip\n"
      ],
      "execution_count": 1,
      "outputs": [
        {
          "output_type": "stream",
          "text": [
            "Archive:  brain_tumor_dataset.zip\n",
            "   creating: brain_tumor_dataset/test/\n",
            "  inflating: brain_tumor_dataset/test/ (2).JPG  \n",
            " extracting: brain_tumor_dataset/test/ (3).jpg  \n",
            "  inflating: brain_tumor_dataset/test/ (4).jpg  \n",
            "  inflating: brain_tumor_dataset/test/ (5).jpg  \n",
            "  inflating: brain_tumor_dataset/test/ (6).jpg  \n",
            "  inflating: brain_tumor_dataset/test/ (7).jpg  \n",
            "  inflating: brain_tumor_dataset/test/ (8).jpg  \n",
            "  inflating: brain_tumor_dataset/test/.JPG  \n",
            "   creating: brain_tumor_dataset/train/\n",
            "   creating: brain_tumor_dataset/train/no/\n",
            "  inflating: brain_tumor_dataset/train/no/10 no.jpg  \n",
            "  inflating: brain_tumor_dataset/train/no/11 no.jpg  \n",
            "  inflating: brain_tumor_dataset/train/no/12 no.jpg  \n",
            "  inflating: brain_tumor_dataset/train/no/13 no.jpg  \n",
            "  inflating: brain_tumor_dataset/train/no/14 no.jpg  \n",
            "  inflating: brain_tumor_dataset/train/no/15 no.jpg  \n",
            "  inflating: brain_tumor_dataset/train/no/17 no.jpg  \n",
            "  inflating: brain_tumor_dataset/train/no/18 no.jpg  \n",
            "  inflating: brain_tumor_dataset/train/no/19 no.jpg  \n",
            "  inflating: brain_tumor_dataset/train/no/20 no.jpg  \n",
            "  inflating: brain_tumor_dataset/train/no/21 no.jpg  \n",
            "  inflating: brain_tumor_dataset/train/no/22 no.jpg  \n",
            "  inflating: brain_tumor_dataset/train/no/23 no.jpg  \n",
            "  inflating: brain_tumor_dataset/train/no/24 no.jpg  \n",
            "  inflating: brain_tumor_dataset/train/no/25 no.jpg  \n",
            "  inflating: brain_tumor_dataset/train/no/26 no.jpg  \n",
            "  inflating: brain_tumor_dataset/train/no/27 no.jpg  \n",
            "  inflating: brain_tumor_dataset/train/no/28 no.jpg  \n",
            "  inflating: brain_tumor_dataset/train/no/29 no.jpg  \n",
            "  inflating: brain_tumor_dataset/train/no/30 no.jpg  \n",
            "  inflating: brain_tumor_dataset/train/no/31 no.jpg  \n",
            "  inflating: brain_tumor_dataset/train/no/32 no.jpg  \n",
            "  inflating: brain_tumor_dataset/train/no/33 no.jpg  \n",
            "  inflating: brain_tumor_dataset/train/no/34 no.jpg  \n",
            "  inflating: brain_tumor_dataset/train/no/35 no.jpg  \n",
            "  inflating: brain_tumor_dataset/train/no/36 no.jpg  \n",
            "  inflating: brain_tumor_dataset/train/no/37 no.jpg  \n",
            "  inflating: brain_tumor_dataset/train/no/38 no.jpg  \n",
            "  inflating: brain_tumor_dataset/train/no/39 no.jpg  \n",
            "  inflating: brain_tumor_dataset/train/no/40 no.jpg  \n",
            "  inflating: brain_tumor_dataset/train/no/41 no.jpg  \n",
            "  inflating: brain_tumor_dataset/train/no/42 no.jpg  \n",
            "  inflating: brain_tumor_dataset/train/no/43 no.jpg  \n",
            "  inflating: brain_tumor_dataset/train/no/44no.jpg  \n",
            "  inflating: brain_tumor_dataset/train/no/45 no.jpg  \n",
            "  inflating: brain_tumor_dataset/train/no/46 no.jpg  \n",
            "  inflating: brain_tumor_dataset/train/no/47 no.jpg  \n",
            "  inflating: brain_tumor_dataset/train/no/48 no.jpeg  \n",
            "  inflating: brain_tumor_dataset/train/no/49 no.jpg  \n",
            "  inflating: brain_tumor_dataset/train/no/50 no.jpg  \n",
            "  inflating: brain_tumor_dataset/train/no/6 no.jpg  \n",
            "  inflating: brain_tumor_dataset/train/no/7 no.jpg  \n",
            "  inflating: brain_tumor_dataset/train/no/8 no.jpg  \n",
            "  inflating: brain_tumor_dataset/train/no/9 no.jpg  \n",
            "  inflating: brain_tumor_dataset/train/no/N11.jpg  \n",
            "  inflating: brain_tumor_dataset/train/no/N15.jpg  \n",
            "  inflating: brain_tumor_dataset/train/no/N16.jpg  \n",
            "  inflating: brain_tumor_dataset/train/no/N17.jpg  \n",
            "  inflating: brain_tumor_dataset/train/no/N19.JPG  \n",
            "  inflating: brain_tumor_dataset/train/no/N20.JPG  \n",
            "  inflating: brain_tumor_dataset/train/no/N21.jpg  \n",
            "  inflating: brain_tumor_dataset/train/no/N22.JPG  \n",
            "  inflating: brain_tumor_dataset/train/no/N26.JPG  \n",
            "  inflating: brain_tumor_dataset/train/no/N6.jpg  \n",
            "  inflating: brain_tumor_dataset/train/no/no 1.jpg  \n",
            "  inflating: brain_tumor_dataset/train/no/no 10.jpg  \n",
            "  inflating: brain_tumor_dataset/train/no/no 100.jpg  \n",
            "  inflating: brain_tumor_dataset/train/no/no 2.jpg  \n",
            "  inflating: brain_tumor_dataset/train/no/no 8.jpg  \n",
            "  inflating: brain_tumor_dataset/train/no/no 89.jpg  \n",
            "  inflating: brain_tumor_dataset/train/no/no 9.png  \n",
            "  inflating: brain_tumor_dataset/train/no/no 90.jpg  \n",
            "  inflating: brain_tumor_dataset/train/no/no 91.jpeg  \n",
            "  inflating: brain_tumor_dataset/train/no/no 92.jpg  \n",
            "  inflating: brain_tumor_dataset/train/no/no 923.jpg  \n",
            "  inflating: brain_tumor_dataset/train/no/no 94.jpg  \n",
            "  inflating: brain_tumor_dataset/train/no/no 95.jpg  \n",
            "  inflating: brain_tumor_dataset/train/no/no 96.jpg  \n",
            "  inflating: brain_tumor_dataset/train/no/no 97.jpg  \n",
            "  inflating: brain_tumor_dataset/train/no/no 98.jpg  \n",
            "  inflating: brain_tumor_dataset/train/no/no 99.jpg  \n",
            "  inflating: brain_tumor_dataset/train/no/no.jpg  \n",
            "  inflating: brain_tumor_dataset/train/no/No11.jpg  \n",
            "  inflating: brain_tumor_dataset/train/no/No12.jpg  \n",
            "  inflating: brain_tumor_dataset/train/no/No13.jpg  \n",
            "  inflating: brain_tumor_dataset/train/no/No14.jpg  \n",
            "  inflating: brain_tumor_dataset/train/no/No15.jpg  \n",
            "  inflating: brain_tumor_dataset/train/no/No16.jpg  \n",
            "  inflating: brain_tumor_dataset/train/no/No17.jpg  \n",
            "  inflating: brain_tumor_dataset/train/no/No18.jpg  \n",
            "  inflating: brain_tumor_dataset/train/no/No19.jpg  \n",
            "  inflating: brain_tumor_dataset/train/no/No20.jpg  \n",
            "  inflating: brain_tumor_dataset/train/no/No21.jpg  \n",
            "  inflating: brain_tumor_dataset/train/no/No22.jpg  \n",
            "   creating: brain_tumor_dataset/train/yes/\n",
            "  inflating: brain_tumor_dataset/train/yes/Y10.jpg  \n",
            "  inflating: brain_tumor_dataset/train/yes/Y100.JPG  \n",
            "  inflating: brain_tumor_dataset/train/yes/Y101.jpg  \n",
            "  inflating: brain_tumor_dataset/train/yes/Y102.jpg  \n",
            "  inflating: brain_tumor_dataset/train/yes/Y103.jpg  \n",
            "  inflating: brain_tumor_dataset/train/yes/Y104.jpg  \n",
            "  inflating: brain_tumor_dataset/train/yes/Y105.jpg  \n",
            "  inflating: brain_tumor_dataset/train/yes/Y106.jpg  \n",
            "  inflating: brain_tumor_dataset/train/yes/Y107.jpg  \n",
            "  inflating: brain_tumor_dataset/train/yes/Y108.jpg  \n",
            "  inflating: brain_tumor_dataset/train/yes/Y109.JPG  \n",
            "  inflating: brain_tumor_dataset/train/yes/Y11.jpg  \n",
            "  inflating: brain_tumor_dataset/train/yes/Y111.JPG  \n",
            "  inflating: brain_tumor_dataset/train/yes/Y112.JPG  \n",
            "  inflating: brain_tumor_dataset/train/yes/Y113.JPG  \n",
            "  inflating: brain_tumor_dataset/train/yes/Y114.JPG  \n",
            "  inflating: brain_tumor_dataset/train/yes/Y115.JPG  \n",
            "  inflating: brain_tumor_dataset/train/yes/Y116.JPG  \n",
            "  inflating: brain_tumor_dataset/train/yes/Y117.JPG  \n",
            "  inflating: brain_tumor_dataset/train/yes/Y12.jpg  \n",
            "  inflating: brain_tumor_dataset/train/yes/Y120.JPG  \n",
            "  inflating: brain_tumor_dataset/train/yes/Y13.jpg  \n",
            "  inflating: brain_tumor_dataset/train/yes/Y14.jpg  \n",
            "  inflating: brain_tumor_dataset/train/yes/Y146.JPG  \n",
            "  inflating: brain_tumor_dataset/train/yes/Y147.JPG  \n",
            "  inflating: brain_tumor_dataset/train/yes/Y148.JPG  \n",
            "  inflating: brain_tumor_dataset/train/yes/Y15.jpg  \n",
            "  inflating: brain_tumor_dataset/train/yes/Y153.jpg  \n",
            "  inflating: brain_tumor_dataset/train/yes/Y154.jpg  \n",
            "  inflating: brain_tumor_dataset/train/yes/Y155.JPG  \n",
            "  inflating: brain_tumor_dataset/train/yes/Y156.JPG  \n",
            "  inflating: brain_tumor_dataset/train/yes/Y157.JPG  \n",
            "  inflating: brain_tumor_dataset/train/yes/Y158.JPG  \n",
            "  inflating: brain_tumor_dataset/train/yes/Y159.JPG  \n",
            "  inflating: brain_tumor_dataset/train/yes/Y16.JPG  \n",
            "  inflating: brain_tumor_dataset/train/yes/Y160.JPG  \n",
            "  inflating: brain_tumor_dataset/train/yes/Y161.JPG  \n",
            "  inflating: brain_tumor_dataset/train/yes/Y167.JPG  \n",
            "  inflating: brain_tumor_dataset/train/yes/Y168.jpg  \n",
            "  inflating: brain_tumor_dataset/train/yes/Y169.jpg  \n",
            "  inflating: brain_tumor_dataset/train/yes/Y17.jpg  \n",
            "  inflating: brain_tumor_dataset/train/yes/Y170.JPG  \n",
            "  inflating: brain_tumor_dataset/train/yes/Y18.JPG  \n",
            "  inflating: brain_tumor_dataset/train/yes/Y180.jpg  \n",
            "  inflating: brain_tumor_dataset/train/yes/Y181.jpg  \n",
            "  inflating: brain_tumor_dataset/train/yes/Y182.JPG  \n",
            "  inflating: brain_tumor_dataset/train/yes/Y183.jpg  \n",
            "  inflating: brain_tumor_dataset/train/yes/Y184.JPG  \n",
            "  inflating: brain_tumor_dataset/train/yes/Y185.jpg  \n",
            "  inflating: brain_tumor_dataset/train/yes/Y186.jpg  \n",
            "  inflating: brain_tumor_dataset/train/yes/Y187.jpg  \n",
            "  inflating: brain_tumor_dataset/train/yes/Y188.jpg  \n",
            "  inflating: brain_tumor_dataset/train/yes/Y19.JPG  \n",
            "  inflating: brain_tumor_dataset/train/yes/Y192.JPG  \n",
            "  inflating: brain_tumor_dataset/train/yes/Y193.JPG  \n",
            "  inflating: brain_tumor_dataset/train/yes/Y194.jpg  \n",
            "  inflating: brain_tumor_dataset/train/yes/Y195.JPG  \n",
            "  inflating: brain_tumor_dataset/train/yes/Y20.jpg  \n",
            "  inflating: brain_tumor_dataset/train/yes/Y21.jpg  \n",
            "  inflating: brain_tumor_dataset/train/yes/Y22.jpg  \n",
            "  inflating: brain_tumor_dataset/train/yes/Y23.JPG  \n",
            "  inflating: brain_tumor_dataset/train/yes/Y24.jpg  \n",
            "  inflating: brain_tumor_dataset/train/yes/Y242.JPG  \n",
            "  inflating: brain_tumor_dataset/train/yes/Y243.JPG  \n",
            "  inflating: brain_tumor_dataset/train/yes/Y244.JPG  \n",
            "  inflating: brain_tumor_dataset/train/yes/Y245.jpg  \n",
            "  inflating: brain_tumor_dataset/train/yes/Y246.JPG  \n",
            "  inflating: brain_tumor_dataset/train/yes/Y247.JPG  \n",
            "  inflating: brain_tumor_dataset/train/yes/Y248.JPG  \n",
            "  inflating: brain_tumor_dataset/train/yes/Y249.JPG  \n",
            "  inflating: brain_tumor_dataset/train/yes/Y25.jpg  \n",
            " extracting: brain_tumor_dataset/train/yes/Y250.jpg  \n",
            "  inflating: brain_tumor_dataset/train/yes/Y251.JPG  \n",
            "  inflating: brain_tumor_dataset/train/yes/Y252.jpg  \n",
            "  inflating: brain_tumor_dataset/train/yes/Y253.JPG  \n",
            "  inflating: brain_tumor_dataset/train/yes/Y254.jpg  \n",
            "  inflating: brain_tumor_dataset/train/yes/Y255.JPG  \n",
            "  inflating: brain_tumor_dataset/train/yes/Y256.JPG  \n",
            "  inflating: brain_tumor_dataset/train/yes/Y257.jpg  \n",
            "  inflating: brain_tumor_dataset/train/yes/Y258.JPG  \n",
            "  inflating: brain_tumor_dataset/train/yes/Y259.JPG  \n",
            "  inflating: brain_tumor_dataset/train/yes/Y26.jpg  \n",
            "  inflating: brain_tumor_dataset/train/yes/Y27.jpg  \n",
            "  inflating: brain_tumor_dataset/train/yes/Y28.jpg  \n",
            "  inflating: brain_tumor_dataset/train/yes/Y29.jpg  \n",
            " extracting: brain_tumor_dataset/train/yes/Y30.jpg  \n",
            "  inflating: brain_tumor_dataset/train/yes/Y31.jpg  \n",
            "  inflating: brain_tumor_dataset/train/yes/Y32.jpg  \n",
            "  inflating: brain_tumor_dataset/train/yes/Y33.jpg  \n",
            "  inflating: brain_tumor_dataset/train/yes/Y34.jpg  \n",
            "  inflating: brain_tumor_dataset/train/yes/Y35.jpg  \n",
            "  inflating: brain_tumor_dataset/train/yes/Y36.JPG  \n",
            "  inflating: brain_tumor_dataset/train/yes/Y37.jpg  \n",
            " extracting: brain_tumor_dataset/train/yes/Y38.jpg  \n",
            "  inflating: brain_tumor_dataset/train/yes/Y39.jpg  \n",
            "  inflating: brain_tumor_dataset/train/yes/Y40.JPG  \n",
            "  inflating: brain_tumor_dataset/train/yes/Y41.jpg  \n",
            "  inflating: brain_tumor_dataset/train/yes/Y42.jpg  \n",
            "  inflating: brain_tumor_dataset/train/yes/Y44.JPG  \n",
            "  inflating: brain_tumor_dataset/train/yes/Y45.JPG  \n",
            "  inflating: brain_tumor_dataset/train/yes/Y46.jpg  \n",
            "  inflating: brain_tumor_dataset/train/yes/Y47.JPG  \n",
            "  inflating: brain_tumor_dataset/train/yes/Y49.JPG  \n",
            "  inflating: brain_tumor_dataset/train/yes/Y50.JPG  \n",
            "  inflating: brain_tumor_dataset/train/yes/Y51.jpg  \n",
            "  inflating: brain_tumor_dataset/train/yes/Y52.jpg  \n",
            "  inflating: brain_tumor_dataset/train/yes/Y53.jpg  \n",
            " extracting: brain_tumor_dataset/train/yes/Y54.jpg  \n",
            "  inflating: brain_tumor_dataset/train/yes/Y55.jpg  \n",
            "  inflating: brain_tumor_dataset/train/yes/Y56.jpg  \n",
            "  inflating: brain_tumor_dataset/train/yes/Y58.JPG  \n",
            "  inflating: brain_tumor_dataset/train/yes/Y59.JPG  \n",
            "  inflating: brain_tumor_dataset/train/yes/Y60.jpg  \n",
            "  inflating: brain_tumor_dataset/train/yes/Y61.jpg  \n",
            "  inflating: brain_tumor_dataset/train/yes/Y62.jpg  \n",
            "  inflating: brain_tumor_dataset/train/yes/Y65.JPG  \n",
            "  inflating: brain_tumor_dataset/train/yes/Y66.JPG  \n",
            "  inflating: brain_tumor_dataset/train/yes/Y67.JPG  \n",
            "  inflating: brain_tumor_dataset/train/yes/Y69.jpg  \n",
            "  inflating: brain_tumor_dataset/train/yes/Y7.jpg  \n",
            " extracting: brain_tumor_dataset/train/yes/Y70.jpg  \n",
            "  inflating: brain_tumor_dataset/train/yes/Y71.JPG  \n",
            "  inflating: brain_tumor_dataset/train/yes/Y73.jpg  \n",
            "  inflating: brain_tumor_dataset/train/yes/Y74.jpg  \n",
            "  inflating: brain_tumor_dataset/train/yes/Y75.JPG  \n",
            "  inflating: brain_tumor_dataset/train/yes/Y76.jpg  \n",
            "  inflating: brain_tumor_dataset/train/yes/Y8.jpg  \n",
            "  inflating: brain_tumor_dataset/train/yes/Y82.jpg  \n",
            "  inflating: brain_tumor_dataset/train/yes/Y85.JPG  \n",
            "  inflating: brain_tumor_dataset/train/yes/Y86.JPG  \n",
            "  inflating: brain_tumor_dataset/train/yes/Y89.JPG  \n",
            "  inflating: brain_tumor_dataset/train/yes/Y9.jpg  \n",
            "  inflating: brain_tumor_dataset/train/yes/Y90.jpg  \n",
            "  inflating: brain_tumor_dataset/train/yes/Y91.jpg  \n",
            "  inflating: brain_tumor_dataset/train/yes/Y92.jpg  \n",
            "  inflating: brain_tumor_dataset/train/yes/Y92.png  \n",
            "  inflating: brain_tumor_dataset/train/yes/Y95.jpg  \n",
            "  inflating: brain_tumor_dataset/train/yes/Y96.jpg  \n",
            "  inflating: brain_tumor_dataset/train/yes/Y97.JPG  \n",
            "  inflating: brain_tumor_dataset/train/yes/Y98.JPG  \n",
            "  inflating: brain_tumor_dataset/train/yes/Y99.JPG  \n",
            "   creating: brain_tumor_dataset/valid/\n",
            "  inflating: brain_tumor_dataset/valid/1 no.jpeg  \n",
            "  inflating: brain_tumor_dataset/valid/2 no.jpeg  \n",
            "  inflating: brain_tumor_dataset/valid/3 no.jpg  \n",
            "  inflating: brain_tumor_dataset/valid/4 no.jpg  \n",
            "  inflating: brain_tumor_dataset/valid/5 no.jpg  \n",
            "  inflating: brain_tumor_dataset/valid/no 3.jpg  \n",
            " extracting: brain_tumor_dataset/valid/no 4.jpg  \n",
            "  inflating: brain_tumor_dataset/valid/no 5.jpeg  \n",
            "  inflating: brain_tumor_dataset/valid/no 6.jpg  \n",
            "  inflating: brain_tumor_dataset/valid/no 7.jpeg  \n",
            "  inflating: brain_tumor_dataset/valid/Y1.jpg  \n",
            "  inflating: brain_tumor_dataset/valid/Y162.jpg  \n",
            "  inflating: brain_tumor_dataset/valid/Y163.JPG  \n",
            "  inflating: brain_tumor_dataset/valid/Y164.JPG  \n",
            "  inflating: brain_tumor_dataset/valid/Y165.JPG  \n",
            "  inflating: brain_tumor_dataset/valid/Y166.JPG  \n",
            "  inflating: brain_tumor_dataset/valid/Y2.jpg  \n",
            "  inflating: brain_tumor_dataset/valid/Y3.jpg  \n",
            "  inflating: brain_tumor_dataset/valid/Y4.jpg  \n",
            "  inflating: brain_tumor_dataset/valid/Y6.jpg  \n"
          ],
          "name": "stdout"
        }
      ]
    },
    {
      "cell_type": "code",
      "metadata": {
        "id": "0hLRWjj1ye0p",
        "colab_type": "code",
        "colab": {
          "base_uri": "https://localhost:8080/",
          "height": 439
        },
        "outputId": "d16f03b1-9136-4b4a-b72d-e2e6e57eb7f4"
      },
      "source": [
        "! unzip valid.zip"
      ],
      "execution_count": 28,
      "outputs": [
        {
          "output_type": "stream",
          "text": [
            "Archive:  valid.zip\n",
            "   creating: valid/no/\n",
            "  inflating: valid/no/1 no.jpeg      \n",
            "  inflating: valid/no/2 no.jpeg      \n",
            "  inflating: valid/no/3 no.jpg       \n",
            "  inflating: valid/no/4 no.jpg       \n",
            "  inflating: valid/no/5 no.jpg       \n",
            "  inflating: valid/no/no 3.jpg       \n",
            " extracting: valid/no/no 4.jpg       \n",
            "  inflating: valid/no/no 5.jpeg      \n",
            "  inflating: valid/no/no 6.jpg       \n",
            "  inflating: valid/no/no 7.jpeg      \n",
            "   creating: valid/yes/\n",
            "  inflating: valid/yes/Y1.jpg        \n",
            "  inflating: valid/yes/Y162.jpg      \n",
            "  inflating: valid/yes/Y163.JPG      \n",
            "  inflating: valid/yes/Y164.JPG      \n",
            "  inflating: valid/yes/Y165.JPG      \n",
            "  inflating: valid/yes/Y166.JPG      \n",
            "  inflating: valid/yes/Y2.jpg        \n",
            "  inflating: valid/yes/Y3.jpg        \n",
            "  inflating: valid/yes/Y4.jpg        \n",
            "  inflating: valid/yes/Y6.jpg        \n"
          ],
          "name": "stdout"
        }
      ]
    },
    {
      "cell_type": "code",
      "metadata": {
        "id": "wBSZFByQoiJN",
        "colab_type": "code",
        "colab": {}
      },
      "source": [
        "import os, shutil"
      ],
      "execution_count": 2,
      "outputs": []
    },
    {
      "cell_type": "code",
      "metadata": {
        "id": "wCN8QnC6orCK",
        "colab_type": "code",
        "colab": {
          "base_uri": "https://localhost:8080/",
          "height": 35
        },
        "outputId": "ab0d98e9-e903-4655-e32e-10addfe7b3fc"
      },
      "source": [
        "train_images= '/content/brain_tumor_dataset/train'\n",
        "print('Total no of folder containing in training the model are:', len(os.listdir(train_images)))"
      ],
      "execution_count": 3,
      "outputs": [
        {
          "output_type": "stream",
          "text": [
            "Total no of folder containing in training the model are: 2\n"
          ],
          "name": "stdout"
        }
      ]
    },
    {
      "cell_type": "code",
      "metadata": {
        "id": "qre9GYF3pAsB",
        "colab_type": "code",
        "colab": {
          "base_uri": "https://localhost:8080/",
          "height": 35
        },
        "outputId": "1fd355d4-6875-4e63-b3d3-919560d7469c"
      },
      "source": [
        "##we have two folder containing images for no tumor and yes tumor\n",
        "no_tumor='/content/brain_tumor_dataset/train/no'\n",
        "print('total no of images for training about no tumor:', len(os.listdir(no_tumor)))"
      ],
      "execution_count": 4,
      "outputs": [
        {
          "output_type": "stream",
          "text": [
            "total no of images for training about no tumor: 84\n"
          ],
          "name": "stdout"
        }
      ]
    },
    {
      "cell_type": "code",
      "metadata": {
        "id": "pOmk_yfhpkbZ",
        "colab_type": "code",
        "colab": {
          "base_uri": "https://localhost:8080/",
          "height": 35
        },
        "outputId": "92c54001-3e37-4a4d-b966-218270f1b57b"
      },
      "source": [
        "yes_tumor='/content/brain_tumor_dataset/train/yes'\n",
        "print('total no. of images for training about the patience having tumor: ', len(os.listdir(yes_tumor)))"
      ],
      "execution_count": 5,
      "outputs": [
        {
          "output_type": "stream",
          "text": [
            "total no. of images for training about the patience having tumor:  141\n"
          ],
          "name": "stdout"
        }
      ]
    },
    {
      "cell_type": "code",
      "metadata": {
        "id": "giTMUT2sp3G9",
        "colab_type": "code",
        "colab": {
          "base_uri": "https://localhost:8080/",
          "height": 35
        },
        "outputId": "76eb0202-bf13-4c59-fba2-bb1c10ec0751"
      },
      "source": [
        "validation_images='/content/brain_tumor_dataset/valid'\n",
        "print('total no. of images for validation of our model are:', len(os.listdir(validation_images)))"
      ],
      "execution_count": 6,
      "outputs": [
        {
          "output_type": "stream",
          "text": [
            "total no. of images for validation of our model are: 20\n"
          ],
          "name": "stdout"
        }
      ]
    },
    {
      "cell_type": "code",
      "metadata": {
        "id": "vzvWSq5UqLy7",
        "colab_type": "code",
        "colab": {
          "base_uri": "https://localhost:8080/",
          "height": 35
        },
        "outputId": "7cc56f8a-9317-4ca1-b8b1-8171a58b467c"
      },
      "source": [
        "test_images='/content/brain_tumor_dataset/test'\n",
        "print('Finally we have total no. of images for our test are:', len(os.listdir(test_images)))"
      ],
      "execution_count": 9,
      "outputs": [
        {
          "output_type": "stream",
          "text": [
            "Finally we have total no. of images for our test are: 8\n"
          ],
          "name": "stdout"
        }
      ]
    },
    {
      "cell_type": "code",
      "metadata": {
        "id": "HYmfUiu9qcG7",
        "colab_type": "code",
        "colab": {}
      },
      "source": [
        "# This Dataset is much smaller let's see how we can get good accuracy with our model \n",
        "#first we will use dataaugmentation technique to tackle this problem"
      ],
      "execution_count": 10,
      "outputs": []
    },
    {
      "cell_type": "code",
      "metadata": {
        "id": "gmT8bCiQq8zw",
        "colab_type": "code",
        "colab": {}
      },
      "source": [
        "import keras\n",
        "from keras import models\n",
        "from keras import layers\n",
        "from keras.preprocessing.image import ImageDataGenerator\n",
        "from keras.preprocessing import image"
      ],
      "execution_count": 12,
      "outputs": []
    },
    {
      "cell_type": "code",
      "metadata": {
        "id": "j7SE7am5sguD",
        "colab_type": "code",
        "colab": {
          "base_uri": "https://localhost:8080/",
          "height": 35
        },
        "outputId": "2a61d7a9-115a-492b-ec5d-6f2618020a1c"
      },
      "source": [
        "import numpy as np\n",
        "import pandas as pd\n",
        "import cv2\n",
        "img=cv2.imread('/content/brain_tumor_dataset/train/no/15 no.jpg')\n",
        "img.shape"
      ],
      "execution_count": 21,
      "outputs": [
        {
          "output_type": "execute_result",
          "data": {
            "text/plain": [
              "(217, 232, 3)"
            ]
          },
          "metadata": {
            "tags": []
          },
          "execution_count": 21
        }
      ]
    },
    {
      "cell_type": "code",
      "metadata": {
        "id": "KBgAK5SRrhnY",
        "colab_type": "code",
        "colab": {}
      },
      "source": [
        "from keras import optimizers\n",
        "\n",
        "model = models.Sequential()\n",
        "model.add(layers.Conv2D(32, (3, 3), activation='relu',\n",
        "                        input_shape=(150, 150, 3)))\n",
        "model.add(layers.MaxPooling2D((2, 2)))\n",
        "model.add(layers.Conv2D(64, (3, 3), activation='relu'))\n",
        "model.add(layers.MaxPooling2D((2, 2)))\n",
        "model.add(layers.Conv2D(128, (3, 3), activation='relu'))\n",
        "model.add(layers.MaxPooling2D((2, 2)))\n",
        "model.add(layers.Conv2D(128, (3, 3), activation='relu'))\n",
        "model.add(layers.MaxPooling2D((2, 2)))\n",
        "model.add(layers.Flatten())\n",
        "model.add(layers.Dropout(0.5))\n",
        "model.add(layers.Dense(512, activation='relu'))\n",
        "model.add(layers.Dense(1, activation='sigmoid'))\n",
        "\n",
        "model.compile(loss='binary_crossentropy',\n",
        "              optimizer=optimizers.RMSprop(lr=1e-4),\n",
        "              metrics=['acc'])"
      ],
      "execution_count": 23,
      "outputs": []
    },
    {
      "cell_type": "code",
      "metadata": {
        "id": "RZsRfTo1uV5O",
        "colab_type": "code",
        "colab": {
          "base_uri": "https://localhost:8080/",
          "height": 54
        },
        "outputId": "df46befb-ada2-4c24-82c3-896ad7c79471"
      },
      "source": [
        "train_datagen = ImageDataGenerator(\n",
        "    rescale=1./255,\n",
        "    rotation_range=40,\n",
        "    width_shift_range=0.2,\n",
        "    height_shift_range=0.2,\n",
        "    shear_range=0.2,\n",
        "    zoom_range=0.2,\n",
        "    horizontal_flip=True,)\n",
        "\n",
        "# Note that the validation data should not be augmented!\n",
        "test_datagen = ImageDataGenerator(rescale=1./255)\n",
        "\n",
        "train_generator = train_datagen.flow_from_directory(\n",
        "        # This is the target directory\n",
        "        '/content/brain_tumor_dataset/train',\n",
        "        # All images will be resized to 150x150\n",
        "        target_size=(150, 150),\n",
        "        batch_size=32,\n",
        "        # Since we use binary_crossentropy loss, we need binary labels\n",
        "        class_mode='binary')\n",
        "\n",
        "validation_generator = test_datagen.flow_from_directory(\n",
        "        '/content/valid',\n",
        "        target_size=(150, 150),\n",
        "        batch_size=32,\n",
        "        class_mode='binary')\n",
        "\n"
      ],
      "execution_count": 29,
      "outputs": [
        {
          "output_type": "stream",
          "text": [
            "Found 225 images belonging to 2 classes.\n",
            "Found 20 images belonging to 2 classes.\n"
          ],
          "name": "stdout"
        }
      ]
    },
    {
      "cell_type": "code",
      "metadata": {
        "id": "iV4Q9Cf4zR-1",
        "colab_type": "code",
        "colab": {}
      },
      "source": [
        "steps_per_epoch_training = len(train_generator)\n",
        "steps_per_epoch_validation = len(validation_generator)\n",
        "num_epochs = 50"
      ],
      "execution_count": 34,
      "outputs": []
    },
    {
      "cell_type": "code",
      "metadata": {
        "id": "xhhAQJ4XwL2e",
        "colab_type": "code",
        "colab": {
          "base_uri": "https://localhost:8080/",
          "height": 1000
        },
        "outputId": "404687a2-91ed-405a-a900-2add90eec6e0"
      },
      "source": [
        "history = model.fit_generator(\n",
        "      train_generator,\n",
        "      steps_per_epoch=steps_per_epoch_training,\n",
        "      epochs=num_epochs,\n",
        "      validation_data=validation_generator,\n",
        "      validation_steps=steps_per_epoch_validation)"
      ],
      "execution_count": 35,
      "outputs": [
        {
          "output_type": "stream",
          "text": [
            "Epoch 1/50\n",
            "8/8 [==============================] - 9s 1s/step - loss: 0.6210 - acc: 0.6489 - val_loss: 0.6305 - val_acc: 0.6500\n",
            "Epoch 2/50\n",
            "8/8 [==============================] - 9s 1s/step - loss: 0.6118 - acc: 0.6533 - val_loss: 0.6358 - val_acc: 0.5000\n",
            "Epoch 3/50\n",
            "8/8 [==============================] - 9s 1s/step - loss: 0.6117 - acc: 0.6756 - val_loss: 0.6471 - val_acc: 0.5000\n",
            "Epoch 4/50\n",
            "8/8 [==============================] - 9s 1s/step - loss: 0.5955 - acc: 0.6844 - val_loss: 0.6335 - val_acc: 0.5000\n",
            "Epoch 5/50\n",
            "8/8 [==============================] - 9s 1s/step - loss: 0.5898 - acc: 0.6889 - val_loss: 0.6671 - val_acc: 0.5000\n",
            "Epoch 6/50\n",
            "8/8 [==============================] - 8s 1s/step - loss: 0.6420 - acc: 0.6711 - val_loss: 0.6603 - val_acc: 0.5000\n",
            "Epoch 7/50\n",
            "8/8 [==============================] - 9s 1s/step - loss: 0.6398 - acc: 0.6444 - val_loss: 0.6472 - val_acc: 0.5000\n",
            "Epoch 8/50\n",
            "8/8 [==============================] - 8s 1s/step - loss: 0.5942 - acc: 0.6933 - val_loss: 0.5107 - val_acc: 0.8000\n",
            "Epoch 9/50\n",
            "8/8 [==============================] - 10s 1s/step - loss: 0.5716 - acc: 0.7244 - val_loss: 0.6090 - val_acc: 0.5000\n",
            "Epoch 10/50\n",
            "8/8 [==============================] - 9s 1s/step - loss: 0.5739 - acc: 0.7111 - val_loss: 0.5176 - val_acc: 0.7500\n",
            "Epoch 11/50\n",
            "8/8 [==============================] - 8s 1s/step - loss: 0.5920 - acc: 0.7333 - val_loss: 0.7096 - val_acc: 0.5500\n",
            "Epoch 12/50\n",
            "8/8 [==============================] - 9s 1s/step - loss: 0.6082 - acc: 0.6400 - val_loss: 0.5076 - val_acc: 0.8000\n",
            "Epoch 13/50\n",
            "8/8 [==============================] - 8s 1s/step - loss: 0.5965 - acc: 0.7022 - val_loss: 0.4976 - val_acc: 0.8000\n",
            "Epoch 14/50\n",
            "8/8 [==============================] - 8s 1s/step - loss: 0.5515 - acc: 0.7422 - val_loss: 0.9225 - val_acc: 0.5000\n",
            "Epoch 15/50\n",
            "8/8 [==============================] - 8s 1s/step - loss: 0.5902 - acc: 0.7067 - val_loss: 0.5624 - val_acc: 0.7000\n",
            "Epoch 16/50\n",
            "8/8 [==============================] - 9s 1s/step - loss: 0.5901 - acc: 0.6978 - val_loss: 0.5258 - val_acc: 0.7500\n",
            "Epoch 17/50\n",
            "8/8 [==============================] - 9s 1s/step - loss: 0.5875 - acc: 0.7022 - val_loss: 0.5303 - val_acc: 0.7500\n",
            "Epoch 18/50\n",
            "8/8 [==============================] - 8s 1s/step - loss: 0.5469 - acc: 0.7244 - val_loss: 0.5721 - val_acc: 0.7000\n",
            "Epoch 19/50\n",
            "8/8 [==============================] - 9s 1s/step - loss: 0.6146 - acc: 0.6756 - val_loss: 0.5354 - val_acc: 0.7500\n",
            "Epoch 20/50\n",
            "8/8 [==============================] - 9s 1s/step - loss: 0.5554 - acc: 0.7378 - val_loss: 0.7060 - val_acc: 0.5000\n",
            "Epoch 21/50\n",
            "8/8 [==============================] - 10s 1s/step - loss: 0.5562 - acc: 0.7556 - val_loss: 0.4125 - val_acc: 0.9000\n",
            "Epoch 22/50\n",
            "8/8 [==============================] - 9s 1s/step - loss: 0.5742 - acc: 0.6889 - val_loss: 0.4757 - val_acc: 0.8000\n",
            "Epoch 23/50\n",
            "8/8 [==============================] - 9s 1s/step - loss: 0.5710 - acc: 0.7244 - val_loss: 0.4950 - val_acc: 0.8000\n",
            "Epoch 24/50\n",
            "8/8 [==============================] - 8s 1s/step - loss: 0.5682 - acc: 0.6933 - val_loss: 0.4561 - val_acc: 0.8000\n",
            "Epoch 25/50\n",
            "8/8 [==============================] - 9s 1s/step - loss: 0.5534 - acc: 0.7289 - val_loss: 0.4763 - val_acc: 0.8000\n",
            "Epoch 26/50\n",
            "8/8 [==============================] - 9s 1s/step - loss: 0.5854 - acc: 0.7289 - val_loss: 0.4612 - val_acc: 0.8000\n",
            "Epoch 27/50\n",
            "8/8 [==============================] - 10s 1s/step - loss: 0.5745 - acc: 0.7200 - val_loss: 0.4226 - val_acc: 0.8000\n",
            "Epoch 28/50\n",
            "8/8 [==============================] - 9s 1s/step - loss: 0.5487 - acc: 0.7467 - val_loss: 0.3778 - val_acc: 0.9000\n",
            "Epoch 29/50\n",
            "8/8 [==============================] - 10s 1s/step - loss: 0.5563 - acc: 0.7156 - val_loss: 0.4149 - val_acc: 0.8000\n",
            "Epoch 30/50\n",
            "8/8 [==============================] - 9s 1s/step - loss: 0.5990 - acc: 0.6756 - val_loss: 0.4446 - val_acc: 0.7500\n",
            "Epoch 31/50\n",
            "8/8 [==============================] - 9s 1s/step - loss: 0.5466 - acc: 0.7511 - val_loss: 0.5060 - val_acc: 0.7500\n",
            "Epoch 32/50\n",
            "8/8 [==============================] - 10s 1s/step - loss: 0.6078 - acc: 0.7022 - val_loss: 0.4648 - val_acc: 0.8000\n",
            "Epoch 33/50\n",
            "8/8 [==============================] - 8s 1s/step - loss: 0.5764 - acc: 0.6844 - val_loss: 0.4793 - val_acc: 0.8000\n",
            "Epoch 34/50\n",
            "8/8 [==============================] - 8s 1s/step - loss: 0.5581 - acc: 0.6978 - val_loss: 0.4820 - val_acc: 0.8500\n",
            "Epoch 35/50\n",
            "8/8 [==============================] - 9s 1s/step - loss: 0.5900 - acc: 0.7156 - val_loss: 0.4145 - val_acc: 0.8000\n",
            "Epoch 36/50\n",
            "8/8 [==============================] - 8s 1s/step - loss: 0.5338 - acc: 0.7689 - val_loss: 0.5730 - val_acc: 0.7000\n",
            "Epoch 37/50\n",
            "8/8 [==============================] - 9s 1s/step - loss: 0.5789 - acc: 0.6933 - val_loss: 0.4186 - val_acc: 0.7500\n",
            "Epoch 38/50\n",
            "8/8 [==============================] - 8s 1s/step - loss: 0.5258 - acc: 0.7333 - val_loss: 0.3991 - val_acc: 0.7500\n",
            "Epoch 39/50\n",
            "8/8 [==============================] - 9s 1s/step - loss: 0.5475 - acc: 0.7556 - val_loss: 0.3569 - val_acc: 0.8000\n",
            "Epoch 40/50\n",
            "8/8 [==============================] - 8s 1s/step - loss: 0.5481 - acc: 0.7244 - val_loss: 0.7703 - val_acc: 0.5000\n",
            "Epoch 41/50\n",
            "8/8 [==============================] - 8s 1s/step - loss: 0.5967 - acc: 0.6800 - val_loss: 0.5275 - val_acc: 0.7000\n",
            "Epoch 42/50\n",
            "8/8 [==============================] - 8s 1s/step - loss: 0.5417 - acc: 0.7244 - val_loss: 0.9140 - val_acc: 0.5000\n",
            "Epoch 43/50\n",
            "8/8 [==============================] - 10s 1s/step - loss: 0.5936 - acc: 0.7111 - val_loss: 0.5272 - val_acc: 0.7500\n",
            "Epoch 44/50\n",
            "8/8 [==============================] - 9s 1s/step - loss: 0.5524 - acc: 0.7067 - val_loss: 0.3855 - val_acc: 0.8500\n",
            "Epoch 45/50\n",
            "8/8 [==============================] - 8s 1s/step - loss: 0.5078 - acc: 0.7644 - val_loss: 0.4871 - val_acc: 0.8000\n",
            "Epoch 46/50\n",
            "8/8 [==============================] - 9s 1s/step - loss: 0.5298 - acc: 0.7022 - val_loss: 0.4286 - val_acc: 0.7500\n",
            "Epoch 47/50\n",
            "8/8 [==============================] - 9s 1s/step - loss: 0.5145 - acc: 0.7689 - val_loss: 0.3825 - val_acc: 0.8000\n",
            "Epoch 48/50\n",
            "8/8 [==============================] - 8s 1s/step - loss: 0.4909 - acc: 0.7511 - val_loss: 0.4165 - val_acc: 0.7500\n",
            "Epoch 49/50\n",
            "8/8 [==============================] - 8s 1s/step - loss: 0.5587 - acc: 0.6933 - val_loss: 0.3851 - val_acc: 0.7500\n",
            "Epoch 50/50\n",
            "8/8 [==============================] - 8s 1s/step - loss: 0.4932 - acc: 0.7422 - val_loss: 0.9897 - val_acc: 0.5000\n"
          ],
          "name": "stdout"
        }
      ]
    },
    {
      "cell_type": "code",
      "metadata": {
        "id": "sTzuJVs4y5Je",
        "colab_type": "code",
        "colab": {
          "base_uri": "https://localhost:8080/",
          "height": 545
        },
        "outputId": "2624ae39-da1e-4a47-9be5-09636cda8275"
      },
      "source": [
        "import matplotlib.pyplot as plt\n",
        "\n",
        "\n",
        "acc = history.history['acc']\n",
        "val_acc = history.history['val_acc']\n",
        "loss = history.history['loss']\n",
        "val_loss = history.history['val_loss']\n",
        "\n",
        "epochs = range(len(acc))\n",
        "\n",
        "plt.plot(epochs, acc, 'bo', label='Training acc')\n",
        "plt.plot(epochs, val_acc, 'b', label='Validation acc')\n",
        "plt.title('Training and validation accuracy')\n",
        "plt.legend()\n",
        "\n",
        "plt.figure()\n",
        "\n",
        "plt.plot(epochs, loss, 'bo', label='Training loss')\n",
        "plt.plot(epochs, val_loss, 'b', label='Validation loss')\n",
        "plt.title('Training and validation loss')\n",
        "plt.legend()\n",
        "\n",
        "plt.show()\n",
        "\n"
      ],
      "execution_count": 37,
      "outputs": [
        {
          "output_type": "display_data",
          "data": {
            "image/png": "[encoded data removed]",
            "text/plain": [
              "<Figure size 432x288 with 1 Axes>"
            ]
          },
          "metadata": {
            "tags": [],
            "needs_background": "light"
          }
        },
        {
          "output_type": "display_data",
          "data": {
            "image/png": "[encoded data removed]",
            "text/plain": [
              "<Figure size 432x288 with 1 Axes>"
            ]
          },
          "metadata": {
            "tags": [],
            "needs_background": "light"
          }
        }
      ]
    },
    {
      "cell_type": "code",
      "metadata": {
        "id": "5iYhW0yE4nXC",
        "colab_type": "code",
        "colab": {
          "base_uri": "https://localhost:8080/",
          "height": 219
        },
        "outputId": "84cce515-9206-4174-8754-a89a9aad9a7f"
      },
      "source": [
        "! unzip test.zip"
      ],
      "execution_count": 43,
      "outputs": [
        {
          "output_type": "stream",
          "text": [
            "Archive:  test.zip\n",
            "   creating: test/no/\n",
            " extracting: test/no/no (2).jpg      \n",
            "  inflating: test/no/no (3).JPG      \n",
            "  inflating: test/no/no.jpg          \n",
            "   creating: test/yes/\n",
            "  inflating: test/yes/yes (2).jpg    \n",
            "  inflating: test/yes/yes (3).JPG    \n",
            "  inflating: test/yes/yes (4).jpg    \n",
            "  inflating: test/yes/yes (5).jpg    \n",
            "  inflating: test/yes/yes.jpg        \n"
          ],
          "name": "stdout"
        }
      ]
    },
    {
      "cell_type": "code",
      "metadata": {
        "id": "wRUOQYRN0Cv-",
        "colab_type": "code",
        "colab": {
          "base_uri": "https://localhost:8080/",
          "height": 54
        },
        "outputId": "c7629316-41fa-4938-905d-d2a4ca5979d0"
      },
      "source": [
        "test_generator = train_datagen.flow_from_directory(\n",
        "        '/content/test',\n",
        "        target_size=(150, 150),\n",
        "        batch_size=1,\n",
        "        class_mode='binary')\n",
        "steps_per_epoch_test=len(test_generator)\n",
        "\n",
        "test_loss, test_acc = model.evaluate_generator(test_generator, steps=steps_per_epoch_test)\n",
        "print('test acc:', test_acc)\n"
      ],
      "execution_count": 52,
      "outputs": [
        {
          "output_type": "stream",
          "text": [
            "Found 8 images belonging to 2 classes.\n",
            "test acc: 0.625\n"
          ],
          "name": "stdout"
        }
      ]
    },
    {
      "cell_type": "code",
      "metadata": {
        "id": "vtx3Ws292uQ6",
        "colab_type": "code",
        "colab": {}
      },
      "source": [
        "model.save('Tumor detection from scratched with augmented technique.h5')"
      ],
      "execution_count": 53,
      "outputs": []
    },
    {
      "cell_type": "code",
      "metadata": {
        "id": "WkojdTbZ7Jt2",
        "colab_type": "code",
        "colab": {}
      },
      "source": [
        ""
      ],
      "execution_count": null,
      "outputs": []
    },
    {
      "cell_type": "markdown",
      "metadata": {
        "id": "yHmtSEtV9dfW",
        "colab_type": "text"
      },
      "source": [
        "**we build a model from scratched to classify MRI images of brain tumor and it gives us accuracy of 62. something which is not we want **"
      ]
    },
    {
      "cell_type": "markdown",
      "metadata": {
        "id": "K9kfJCmB95vp",
        "colab_type": "text"
      },
      "source": [
        "**now we see another technique to increase our model accuracy, first we load a pretrained model and we extract features of our images through their convolutional base and apply those features on a new model**"
      ]
    },
    {
      "cell_type": "code",
      "metadata": {
        "id": "XZlJhQNM94Pj",
        "colab_type": "code",
        "colab": {
          "base_uri": "https://localhost:8080/",
          "height": 74
        },
        "outputId": "75642037-c22c-4251-e2c4-c62132e6db6d"
      },
      "source": [
        "from keras.applications import VGG16\n",
        "\n",
        "conv_base = VGG16(weights='imagenet',\n",
        "                  include_top=False,\n",
        "                  input_shape=(150, 150, 3))"
      ],
      "execution_count": 54,
      "outputs": [
        {
          "output_type": "stream",
          "text": [
            "Downloading data from https://storage.googleapis.com/tensorflow/keras-applications/vgg16/vgg16_weights_tf_dim_ordering_tf_kernels_notop.h5\n",
            "58892288/58889256 [==============================] - 2s 0us/step\n"
          ],
          "name": "stdout"
        }
      ]
    },
    {
      "cell_type": "code",
      "metadata": {
        "id": "7Cikpo-k-Z2_",
        "colab_type": "code",
        "colab": {
          "base_uri": "https://localhost:8080/",
          "height": 862
        },
        "outputId": "8b43d10d-0b80-4fcf-d42b-39acc5d547cb"
      },
      "source": [
        "conv_base.summary()"
      ],
      "execution_count": 56,
      "outputs": [
        {
          "output_type": "stream",
          "text": [
            "Model: \"vgg16\"\n",
            "_________________________________________________________________\n",
            "Layer (type)                 Output Shape              Param #   \n",
            "=================================================================\n",
            "input_1 (InputLayer)         [(None, 150, 150, 3)]     0         \n",
            "_________________________________________________________________\n",
            "block1_conv1 (Conv2D)        (None, 150, 150, 64)      1792      \n",
            "_________________________________________________________________\n",
            "block1_conv2 (Conv2D)        (None, 150, 150, 64)      36928     \n",
            "_________________________________________________________________\n",
            "block1_pool (MaxPooling2D)   (None, 75, 75, 64)        0         \n",
            "_________________________________________________________________\n",
            "block2_conv1 (Conv2D)        (None, 75, 75, 128)       73856     \n",
            "_________________________________________________________________\n",
            "block2_conv2 (Conv2D)        (None, 75, 75, 128)       147584    \n",
            "_________________________________________________________________\n",
            "block2_pool (MaxPooling2D)   (None, 37, 37, 128)       0         \n",
            "_________________________________________________________________\n",
            "block3_conv1 (Conv2D)        (None, 37, 37, 256)       295168    \n",
            "_________________________________________________________________\n",
            "block3_conv2 (Conv2D)        (None, 37, 37, 256)       590080    \n",
            "_________________________________________________________________\n",
            "block3_conv3 (Conv2D)        (None, 37, 37, 256)       590080    \n",
            "_________________________________________________________________\n",
            "block3_pool (MaxPooling2D)   (None, 18, 18, 256)       0         \n",
            "_________________________________________________________________\n",
            "block4_conv1 (Conv2D)        (None, 18, 18, 512)       1180160   \n",
            "_________________________________________________________________\n",
            "block4_conv2 (Conv2D)        (None, 18, 18, 512)       2359808   \n",
            "_________________________________________________________________\n",
            "block4_conv3 (Conv2D)        (None, 18, 18, 512)       2359808   \n",
            "_________________________________________________________________\n",
            "block4_pool (MaxPooling2D)   (None, 9, 9, 512)         0         \n",
            "_________________________________________________________________\n",
            "block5_conv1 (Conv2D)        (None, 9, 9, 512)         2359808   \n",
            "_________________________________________________________________\n",
            "block5_conv2 (Conv2D)        (None, 9, 9, 512)         2359808   \n",
            "_________________________________________________________________\n",
            "block5_conv3 (Conv2D)        (None, 9, 9, 512)         2359808   \n",
            "_________________________________________________________________\n",
            "block5_pool (MaxPooling2D)   (None, 4, 4, 512)         0         \n",
            "=================================================================\n",
            "Total params: 14,714,688\n",
            "Trainable params: 14,714,688\n",
            "Non-trainable params: 0\n",
            "_________________________________________________________________\n"
          ],
          "name": "stdout"
        }
      ]
    },
    {
      "cell_type": "code",
      "metadata": {
        "id": "u1mKV540-gM7",
        "colab_type": "code",
        "colab": {
          "base_uri": "https://localhost:8080/",
          "height": 72
        },
        "outputId": "5e0deb1f-f1fc-4dfd-fd72-4a973aa7dc92"
      },
      "source": [
        "train_images='/content/brain_tumor_dataset/train'\n",
        "valid_images='/content/valid'\n",
        "test_images='/content/test'\n",
        "print('training images:', len(os.listdir(train_images)))\n",
        "print('valid images:', len(os.listdir(valid_images)))\n",
        "print('test images:', len(os.listdir(test_images)))"
      ],
      "execution_count": 58,
      "outputs": [
        {
          "output_type": "stream",
          "text": [
            "training images: 2\n",
            "valid images: 2\n",
            "test images: 2\n"
          ],
          "name": "stdout"
        }
      ]
    },
    {
      "cell_type": "code",
      "metadata": {
        "id": "_jEheUCy_7Uo",
        "colab_type": "code",
        "colab": {}
      },
      "source": [
        "train_images_no='/content/brain_tumor_dataset/train/no'\n",
        "train_images_yes='/content/brain_tumor_dataset/train/yes'\n",
        "valid_images_no='/content/valid/no'\n",
        "valid_images_yes='/content/valid/yes'\n",
        "test_images_no='/content/test/no'\n",
        "test_images_yes='/content/test/yes'"
      ],
      "execution_count": 59,
      "outputs": []
    },
    {
      "cell_type": "code",
      "metadata": {
        "id": "FigItbGNBB-t",
        "colab_type": "code",
        "colab": {
          "base_uri": "https://localhost:8080/",
          "height": 72
        },
        "outputId": "d92d9ae9-7bb0-4a75-dbc8-eed081f39251"
      },
      "source": [
        "print('training images no:', len(os.listdir(train_images_no)), 'training images yes:', len(os.listdir(train_images_yes)))\n",
        "print('validation images no:', len(os.listdir(valid_images_no)), 'validation images yes:', len(os.listdir(valid_images_yes)))\n",
        "print('test images no:', len(os.listdir(test_images_no)), 'test images yes:', len(os.listdir(test_images_yes)))"
      ],
      "execution_count": 61,
      "outputs": [
        {
          "output_type": "stream",
          "text": [
            "training images no: 84 training images yes: 141\n",
            "validation images no: 10 validation images yes: 10\n",
            "test images no: 3 test images yes: 5\n"
          ],
          "name": "stdout"
        }
      ]
    },
    {
      "cell_type": "code",
      "metadata": {
        "id": "g3H--yYMBdLK",
        "colab_type": "code",
        "colab": {
          "base_uri": "https://localhost:8080/",
          "height": 72
        },
        "outputId": "a8cae6ac-f94c-4a2a-de49-bf6dbe62f14f"
      },
      "source": [
        "import os\n",
        "import numpy as np\n",
        "from keras.preprocessing.image import ImageDataGenerator\n",
        "\n",
        "base_dir = '/content/base_dir'\n",
        "\n",
        "train_dir = '/content/brain_tumor_dataset/train'\n",
        "validation_dir ='/content/valid'\n",
        "test_dir = '/content/test'\n",
        "\n",
        "datagen = ImageDataGenerator(rescale=1./255)\n",
        "batch_size = 20\n",
        "\n",
        "def extract_features(directory, sample_count):\n",
        "    features = np.zeros(shape=(sample_count, 4, 4, 512))\n",
        "    labels = np.zeros(shape=(sample_count))\n",
        "    generator = datagen.flow_from_directory(\n",
        "        directory,\n",
        "        target_size=(150, 150),\n",
        "        batch_size=batch_size,\n",
        "        class_mode='binary')\n",
        "    i = 0\n",
        "    for inputs_batch, labels_batch in generator:\n",
        "        features_batch = conv_base.predict(inputs_batch)\n",
        "        features[i * batch_size : (i + 1) * batch_size] = features_batch\n",
        "        labels[i * batch_size : (i + 1) * batch_size] = labels_batch\n",
        "        i += 1\n",
        "        if i * batch_size >= sample_count:\n",
        "            # Note that since generators yield data indefinitely in a loop,\n",
        "            # we must `break` after every image has been seen once.\n",
        "            break\n",
        "    return features, labels\n",
        "\n",
        "train_features, train_labels = extract_features(train_dir, 225)\n",
        "validation_features, validation_labels = extract_features(validation_dir, 20)\n",
        "test_features, test_labels = extract_features(test_dir, 8)\n",
        "\n"
      ],
      "execution_count": 64,
      "outputs": [
        {
          "output_type": "stream",
          "text": [
            "Found 225 images belonging to 2 classes.\n",
            "Found 20 images belonging to 2 classes.\n",
            "Found 8 images belonging to 2 classes.\n"
          ],
          "name": "stdout"
        }
      ]
    },
    {
      "cell_type": "markdown",
      "metadata": {
        "id": "fWwatrGwIFXm",
        "colab_type": "text"
      },
      "source": [
        "\n",
        "\n",
        "The extracted features are currently of shape (samples, 4, 4, 512). We will feed them to a densely-connected classifier, so first we must flatten them to (samples, 8192):\n"
      ]
    },
    {
      "cell_type": "code",
      "metadata": {
        "id": "wGE61fRCDGmG",
        "colab_type": "code",
        "colab": {
          "base_uri": "https://localhost:8080/",
          "height": 35
        },
        "outputId": "801a198c-0200-4e0f-88ff-1baff7a56ba7"
      },
      "source": [
        "train_features.shape\n",
        "\n"
      ],
      "execution_count": 73,
      "outputs": [
        {
          "output_type": "execute_result",
          "data": {
            "text/plain": [
              "(225, 4, 4, 512)"
            ]
          },
          "metadata": {
            "tags": []
          },
          "execution_count": 73
        }
      ]
    },
    {
      "cell_type": "code",
      "metadata": {
        "id": "0JmZkSOhI-_d",
        "colab_type": "code",
        "colab": {
          "base_uri": "https://localhost:8080/",
          "height": 35
        },
        "outputId": "61c5e105-82f7-43f9-af27-0914530ade67"
      },
      "source": [
        "validation_features.shape"
      ],
      "execution_count": 71,
      "outputs": [
        {
          "output_type": "execute_result",
          "data": {
            "text/plain": [
              "(20, 4, 4, 512)"
            ]
          },
          "metadata": {
            "tags": []
          },
          "execution_count": 71
        }
      ]
    },
    {
      "cell_type": "code",
      "metadata": {
        "id": "aaa8clyiJCNB",
        "colab_type": "code",
        "colab": {
          "base_uri": "https://localhost:8080/",
          "height": 35
        },
        "outputId": "abdc40b8-0f9b-4e9d-ceec-06a17c374b9d"
      },
      "source": [
        "test_features.shape"
      ],
      "execution_count": 72,
      "outputs": [
        {
          "output_type": "execute_result",
          "data": {
            "text/plain": [
              "(8, 4, 4, 512)"
            ]
          },
          "metadata": {
            "tags": []
          },
          "execution_count": 72
        }
      ]
    },
    {
      "cell_type": "code",
      "metadata": {
        "id": "G1YlHKNRIJqu",
        "colab_type": "code",
        "colab": {}
      },
      "source": [
        "train_features = np.reshape(train_features, (225, 4 * 4 * 512))\n",
        "validation_features = np.reshape(validation_features, (20, 4 * 4 * 512))\n",
        "test_features = np.reshape(test_features, (8, 4 * 4 * 512))\n",
        "\n"
      ],
      "execution_count": 74,
      "outputs": []
    },
    {
      "cell_type": "code",
      "metadata": {
        "id": "QZdw4l1dJR5z",
        "colab_type": "code",
        "colab": {
          "base_uri": "https://localhost:8080/",
          "height": 1000
        },
        "outputId": "a45013f0-f9f4-4093-eb50-5d29df23177f"
      },
      "source": [
        "from keras import models\n",
        "from keras import layers\n",
        "from keras import optimizers\n",
        "\n",
        "model = models.Sequential()\n",
        "model.add(layers.Dense(256, activation='relu', input_dim=4 * 4 * 512))\n",
        "model.add(layers.Dropout(0.5))\n",
        "model.add(layers.Dense(1, activation='sigmoid'))\n",
        "\n",
        "model.compile(optimizer=optimizers.RMSprop(lr=2e-5),\n",
        "              loss='binary_crossentropy',\n",
        "              metrics=['acc'])\n",
        "\n",
        "history = model.fit(train_features, train_labels,\n",
        "                    epochs=30,\n",
        "                    batch_size=20,\n",
        "                    validation_data=(validation_features, validation_labels))\n",
        "\n"
      ],
      "execution_count": 75,
      "outputs": [
        {
          "output_type": "stream",
          "text": [
            "Epoch 1/30\n",
            "12/12 [==============================] - 0s 23ms/step - loss: 0.6980 - acc: 0.5733 - val_loss: 0.6294 - val_acc: 0.6000\n",
            "Epoch 2/30\n",
            "12/12 [==============================] - 0s 13ms/step - loss: 0.6067 - acc: 0.6489 - val_loss: 0.5512 - val_acc: 0.8500\n",
            "Epoch 3/30\n",
            "12/12 [==============================] - 0s 13ms/step - loss: 0.5749 - acc: 0.6978 - val_loss: 0.5228 - val_acc: 0.9000\n",
            "Epoch 4/30\n",
            "12/12 [==============================] - 0s 14ms/step - loss: 0.5269 - acc: 0.7644 - val_loss: 0.5303 - val_acc: 0.7500\n",
            "Epoch 5/30\n",
            "12/12 [==============================] - 0s 14ms/step - loss: 0.4276 - acc: 0.8133 - val_loss: 0.4772 - val_acc: 0.8500\n",
            "Epoch 6/30\n",
            "12/12 [==============================] - 0s 14ms/step - loss: 0.4602 - acc: 0.7867 - val_loss: 0.4695 - val_acc: 0.9000\n",
            "Epoch 7/30\n",
            "12/12 [==============================] - 0s 15ms/step - loss: 0.4267 - acc: 0.8267 - val_loss: 0.4705 - val_acc: 0.9000\n",
            "Epoch 8/30\n",
            "12/12 [==============================] - 0s 14ms/step - loss: 0.4187 - acc: 0.8178 - val_loss: 0.4416 - val_acc: 0.9000\n",
            "Epoch 9/30\n",
            "12/12 [==============================] - 0s 14ms/step - loss: 0.4247 - acc: 0.8133 - val_loss: 0.4426 - val_acc: 0.9000\n",
            "Epoch 10/30\n",
            "12/12 [==============================] - 0s 14ms/step - loss: 0.3802 - acc: 0.8400 - val_loss: 0.4383 - val_acc: 0.9000\n",
            "Epoch 11/30\n",
            "12/12 [==============================] - 0s 14ms/step - loss: 0.3770 - acc: 0.8267 - val_loss: 0.4022 - val_acc: 0.8000\n",
            "Epoch 12/30\n",
            "12/12 [==============================] - 0s 15ms/step - loss: 0.3669 - acc: 0.8489 - val_loss: 0.3868 - val_acc: 0.8000\n",
            "Epoch 13/30\n",
            "12/12 [==============================] - 0s 14ms/step - loss: 0.3558 - acc: 0.8356 - val_loss: 0.3933 - val_acc: 0.9000\n",
            "Epoch 14/30\n",
            "12/12 [==============================] - 0s 14ms/step - loss: 0.3471 - acc: 0.8400 - val_loss: 0.3792 - val_acc: 0.8500\n",
            "Epoch 15/30\n",
            "12/12 [==============================] - 0s 14ms/step - loss: 0.3236 - acc: 0.8667 - val_loss: 0.3576 - val_acc: 0.8000\n",
            "Epoch 16/30\n",
            "12/12 [==============================] - 0s 14ms/step - loss: 0.3225 - acc: 0.8622 - val_loss: 0.3790 - val_acc: 0.9000\n",
            "Epoch 17/30\n",
            "12/12 [==============================] - 0s 14ms/step - loss: 0.2957 - acc: 0.8800 - val_loss: 0.3509 - val_acc: 0.8500\n",
            "Epoch 18/30\n",
            "12/12 [==============================] - 0s 14ms/step - loss: 0.3058 - acc: 0.8800 - val_loss: 0.3597 - val_acc: 0.9000\n",
            "Epoch 19/30\n",
            "12/12 [==============================] - 0s 14ms/step - loss: 0.2768 - acc: 0.9156 - val_loss: 0.3334 - val_acc: 0.8000\n",
            "Epoch 20/30\n",
            "12/12 [==============================] - 0s 13ms/step - loss: 0.2856 - acc: 0.8933 - val_loss: 0.3326 - val_acc: 0.9000\n",
            "Epoch 21/30\n",
            "12/12 [==============================] - 0s 15ms/step - loss: 0.2806 - acc: 0.8844 - val_loss: 0.3236 - val_acc: 0.8500\n",
            "Epoch 22/30\n",
            "12/12 [==============================] - 0s 14ms/step - loss: 0.2834 - acc: 0.8711 - val_loss: 0.3138 - val_acc: 0.8000\n",
            "Epoch 23/30\n",
            "12/12 [==============================] - 0s 15ms/step - loss: 0.2597 - acc: 0.9111 - val_loss: 0.3097 - val_acc: 0.8000\n",
            "Epoch 24/30\n",
            "12/12 [==============================] - 0s 14ms/step - loss: 0.2510 - acc: 0.9333 - val_loss: 0.3146 - val_acc: 0.9000\n",
            "Epoch 25/30\n",
            "12/12 [==============================] - 0s 15ms/step - loss: 0.2615 - acc: 0.8933 - val_loss: 0.3166 - val_acc: 0.9000\n",
            "Epoch 26/30\n",
            "12/12 [==============================] - 0s 14ms/step - loss: 0.2273 - acc: 0.9111 - val_loss: 0.3110 - val_acc: 0.9000\n",
            "Epoch 27/30\n",
            "12/12 [==============================] - 0s 14ms/step - loss: 0.2445 - acc: 0.9111 - val_loss: 0.3200 - val_acc: 0.9000\n",
            "Epoch 28/30\n",
            "12/12 [==============================] - 0s 14ms/step - loss: 0.2227 - acc: 0.9378 - val_loss: 0.3029 - val_acc: 0.9000\n",
            "Epoch 29/30\n",
            "12/12 [==============================] - 0s 16ms/step - loss: 0.2150 - acc: 0.9200 - val_loss: 0.2944 - val_acc: 0.8500\n",
            "Epoch 30/30\n",
            "12/12 [==============================] - 0s 14ms/step - loss: 0.2184 - acc: 0.9244 - val_loss: 0.2893 - val_acc: 0.8000\n"
          ],
          "name": "stdout"
        }
      ]
    },
    {
      "cell_type": "code",
      "metadata": {
        "id": "hj-qQDJSJb5g",
        "colab_type": "code",
        "colab": {
          "base_uri": "https://localhost:8080/",
          "height": 545
        },
        "outputId": "8858bc8c-8977-4c94-dffc-cd599b42edcc"
      },
      "source": [
        "import matplotlib.pyplot as plt\n",
        "\n",
        "acc = history.history['acc']\n",
        "val_acc = history.history['val_acc']\n",
        "loss = history.history['loss']\n",
        "val_loss = history.history['val_loss']\n",
        "\n",
        "epochs = range(len(acc))\n",
        "\n",
        "plt.plot(epochs, acc, 'bo', label='Training acc')\n",
        "plt.plot(epochs, val_acc, 'b', label='Validation acc')\n",
        "plt.title('Training and validation accuracy')\n",
        "plt.legend()\n",
        "\n",
        "plt.figure()\n",
        "\n",
        "plt.plot(epochs, loss, 'bo', label='Training loss')\n",
        "plt.plot(epochs, val_loss, 'b', label='Validation loss')\n",
        "plt.title('Training and validation loss')\n",
        "plt.legend()\n",
        "\n",
        "plt.show()\n",
        "\n"
      ],
      "execution_count": 76,
      "outputs": [
        {
          "output_type": "display_data",
          "data": {
            "image/png": "[encoded data removed]",
            "text/plain": [
              "<Figure size 432x288 with 1 Axes>"
            ]
          },
          "metadata": {
            "tags": [],
            "needs_background": "light"
          }
        },
        {
          "output_type": "display_data",
          "data": {
            "image/png": "[encoded data removed]",
            "text/plain": [
              "<Figure size 432x288 with 1 Axes>"
            ]
          },
          "metadata": {
            "tags": [],
            "needs_background": "light"
          }
        }
      ]
    },
    {
      "cell_type": "code",
      "metadata": {
        "id": "X8sO4JGPJxtn",
        "colab_type": "code",
        "colab": {
          "base_uri": "https://localhost:8080/",
          "height": 54
        },
        "outputId": "6a6395d6-fa62-4456-d486-dde21730e79e"
      },
      "source": [
        "test_loss, test_acc = model.evaluate(test_features,test_labels, steps=3)\n",
        "print('test acc:', test_acc)"
      ],
      "execution_count": 78,
      "outputs": [
        {
          "output_type": "stream",
          "text": [
            "3/3 [==============================] - 0s 3ms/step - loss: 0.3185 - acc: 0.7500\n",
            "test acc: 0.75\n"
          ],
          "name": "stdout"
        }
      ]
    },
    {
      "cell_type": "markdown",
      "metadata": {
        "id": "NiBM676wLcnF",
        "colab_type": "text"
      },
      "source": [
        "**this technique gives us a lot more good accuracy then previous one, what we did? we extract features of of images using pretrained vgg16 model and save it in the form of arrays in the disk and pass these features to a new model. we did not used augmentation technique here."
      ]
    },
    {
      "cell_type": "code",
      "metadata": {
        "id": "MI3D8y8HKeYq",
        "colab_type": "code",
        "colab": {}
      },
      "source": [
        "model.save('Tumor detection using extracting features.h5')"
      ],
      "execution_count": 79,
      "outputs": []
    },
    {
      "cell_type": "markdown",
      "metadata": {
        "id": "tC9ZLlWqQMji",
        "colab_type": "text"
      },
      "source": [
        "**now we will use a pretrained model with our densely connected layer to classify images**"
      ]
    },
    {
      "cell_type": "code",
      "metadata": {
        "id": "Oom4NjMRSqyX",
        "colab_type": "code",
        "colab": {
          "base_uri": "https://localhost:8080/",
          "height": 1000
        },
        "outputId": "356cb585-6ff4-4541-82e8-6a4b25565b10"
      },
      "source": [
        "! unzip brain_tumor_dataset.zip"
      ],
      "execution_count": 2,
      "outputs": [
        {
          "output_type": "stream",
          "text": [
            "Archive:  brain_tumor_dataset.zip\n",
            "   creating: brain_tumor_dataset/test/\n",
            "  inflating: brain_tumor_dataset/test/ (2).JPG  \n",
            " extracting: brain_tumor_dataset/test/ (3).jpg  \n",
            "  inflating: brain_tumor_dataset/test/ (4).jpg  \n",
            "  inflating: brain_tumor_dataset/test/ (5).jpg  \n",
            "  inflating: brain_tumor_dataset/test/ (6).jpg  \n",
            "  inflating: brain_tumor_dataset/test/ (7).jpg  \n",
            "  inflating: brain_tumor_dataset/test/ (8).jpg  \n",
            "  inflating: brain_tumor_dataset/test/.JPG  \n",
            "   creating: brain_tumor_dataset/train/\n",
            "   creating: brain_tumor_dataset/train/no/\n",
            "  inflating: brain_tumor_dataset/train/no/10 no.jpg  \n",
            "  inflating: brain_tumor_dataset/train/no/11 no.jpg  \n",
            "  inflating: brain_tumor_dataset/train/no/12 no.jpg  \n",
            "  inflating: brain_tumor_dataset/train/no/13 no.jpg  \n",
            "  inflating: brain_tumor_dataset/train/no/14 no.jpg  \n",
            "  inflating: brain_tumor_dataset/train/no/15 no.jpg  \n",
            "  inflating: brain_tumor_dataset/train/no/17 no.jpg  \n",
            "  inflating: brain_tumor_dataset/train/no/18 no.jpg  \n",
            "  inflating: brain_tumor_dataset/train/no/19 no.jpg  \n",
            "  inflating: brain_tumor_dataset/train/no/20 no.jpg  \n",
            "  inflating: brain_tumor_dataset/train/no/21 no.jpg  \n",
            "  inflating: brain_tumor_dataset/train/no/22 no.jpg  \n",
            "  inflating: brain_tumor_dataset/train/no/23 no.jpg  \n",
            "  inflating: brain_tumor_dataset/train/no/24 no.jpg  \n",
            "  inflating: brain_tumor_dataset/train/no/25 no.jpg  \n",
            "  inflating: brain_tumor_dataset/train/no/26 no.jpg  \n",
            "  inflating: brain_tumor_dataset/train/no/27 no.jpg  \n",
            "  inflating: brain_tumor_dataset/train/no/28 no.jpg  \n",
            "  inflating: brain_tumor_dataset/train/no/29 no.jpg  \n",
            "  inflating: brain_tumor_dataset/train/no/30 no.jpg  \n",
            "  inflating: brain_tumor_dataset/train/no/31 no.jpg  \n",
            "  inflating: brain_tumor_dataset/train/no/32 no.jpg  \n",
            "  inflating: brain_tumor_dataset/train/no/33 no.jpg  \n",
            "  inflating: brain_tumor_dataset/train/no/34 no.jpg  \n",
            "  inflating: brain_tumor_dataset/train/no/35 no.jpg  \n",
            "  inflating: brain_tumor_dataset/train/no/36 no.jpg  \n",
            "  inflating: brain_tumor_dataset/train/no/37 no.jpg  \n",
            "  inflating: brain_tumor_dataset/train/no/38 no.jpg  \n",
            "  inflating: brain_tumor_dataset/train/no/39 no.jpg  \n",
            "  inflating: brain_tumor_dataset/train/no/40 no.jpg  \n",
            "  inflating: brain_tumor_dataset/train/no/41 no.jpg  \n",
            "  inflating: brain_tumor_dataset/train/no/42 no.jpg  \n",
            "  inflating: brain_tumor_dataset/train/no/43 no.jpg  \n",
            "  inflating: brain_tumor_dataset/train/no/44no.jpg  \n",
            "  inflating: brain_tumor_dataset/train/no/45 no.jpg  \n",
            "  inflating: brain_tumor_dataset/train/no/46 no.jpg  \n",
            "  inflating: brain_tumor_dataset/train/no/47 no.jpg  \n",
            "  inflating: brain_tumor_dataset/train/no/48 no.jpeg  \n",
            "  inflating: brain_tumor_dataset/train/no/49 no.jpg  \n",
            "  inflating: brain_tumor_dataset/train/no/50 no.jpg  \n",
            "  inflating: brain_tumor_dataset/train/no/6 no.jpg  \n",
            "  inflating: brain_tumor_dataset/train/no/7 no.jpg  \n",
            "  inflating: brain_tumor_dataset/train/no/8 no.jpg  \n",
            "  inflating: brain_tumor_dataset/train/no/9 no.jpg  \n",
            "  inflating: brain_tumor_dataset/train/no/N11.jpg  \n",
            "  inflating: brain_tumor_dataset/train/no/N15.jpg  \n",
            "  inflating: brain_tumor_dataset/train/no/N16.jpg  \n",
            "  inflating: brain_tumor_dataset/train/no/N17.jpg  \n",
            "  inflating: brain_tumor_dataset/train/no/N19.JPG  \n",
            "  inflating: brain_tumor_dataset/train/no/N20.JPG  \n",
            "  inflating: brain_tumor_dataset/train/no/N21.jpg  \n",
            "  inflating: brain_tumor_dataset/train/no/N22.JPG  \n",
            "  inflating: brain_tumor_dataset/train/no/N26.JPG  \n",
            "  inflating: brain_tumor_dataset/train/no/N6.jpg  \n",
            "  inflating: brain_tumor_dataset/train/no/no 1.jpg  \n",
            "  inflating: brain_tumor_dataset/train/no/no 10.jpg  \n",
            "  inflating: brain_tumor_dataset/train/no/no 100.jpg  \n",
            "  inflating: brain_tumor_dataset/train/no/no 2.jpg  \n",
            "  inflating: brain_tumor_dataset/train/no/no 8.jpg  \n",
            "  inflating: brain_tumor_dataset/train/no/no 89.jpg  \n",
            "  inflating: brain_tumor_dataset/train/no/no 9.png  \n",
            "  inflating: brain_tumor_dataset/train/no/no 90.jpg  \n",
            "  inflating: brain_tumor_dataset/train/no/no 91.jpeg  \n",
            "  inflating: brain_tumor_dataset/train/no/no 92.jpg  \n",
            "  inflating: brain_tumor_dataset/train/no/no 923.jpg  \n",
            "  inflating: brain_tumor_dataset/train/no/no 94.jpg  \n",
            "  inflating: brain_tumor_dataset/train/no/no 95.jpg  \n",
            "  inflating: brain_tumor_dataset/train/no/no 96.jpg  \n",
            "  inflating: brain_tumor_dataset/train/no/no 97.jpg  \n",
            "  inflating: brain_tumor_dataset/train/no/no 98.jpg  \n",
            "  inflating: brain_tumor_dataset/train/no/no 99.jpg  \n",
            "  inflating: brain_tumor_dataset/train/no/no.jpg  \n",
            "  inflating: brain_tumor_dataset/train/no/No11.jpg  \n",
            "  inflating: brain_tumor_dataset/train/no/No12.jpg  \n",
            "  inflating: brain_tumor_dataset/train/no/No13.jpg  \n",
            "  inflating: brain_tumor_dataset/train/no/No14.jpg  \n",
            "  inflating: brain_tumor_dataset/train/no/No15.jpg  \n",
            "  inflating: brain_tumor_dataset/train/no/No16.jpg  \n",
            "  inflating: brain_tumor_dataset/train/no/No17.jpg  \n",
            "  inflating: brain_tumor_dataset/train/no/No18.jpg  \n",
            "  inflating: brain_tumor_dataset/train/no/No19.jpg  \n",
            "  inflating: brain_tumor_dataset/train/no/No20.jpg  \n",
            "  inflating: brain_tumor_dataset/train/no/No21.jpg  \n",
            "  inflating: brain_tumor_dataset/train/no/No22.jpg  \n",
            "   creating: brain_tumor_dataset/train/yes/\n",
            "  inflating: brain_tumor_dataset/train/yes/Y10.jpg  \n",
            "  inflating: brain_tumor_dataset/train/yes/Y100.JPG  \n",
            "  inflating: brain_tumor_dataset/train/yes/Y101.jpg  \n",
            "  inflating: brain_tumor_dataset/train/yes/Y102.jpg  \n",
            "  inflating: brain_tumor_dataset/train/yes/Y103.jpg  \n",
            "  inflating: brain_tumor_dataset/train/yes/Y104.jpg  \n",
            "  inflating: brain_tumor_dataset/train/yes/Y105.jpg  \n",
            "  inflating: brain_tumor_dataset/train/yes/Y106.jpg  \n",
            "  inflating: brain_tumor_dataset/train/yes/Y107.jpg  \n",
            "  inflating: brain_tumor_dataset/train/yes/Y108.jpg  \n",
            "  inflating: brain_tumor_dataset/train/yes/Y109.JPG  \n",
            "  inflating: brain_tumor_dataset/train/yes/Y11.jpg  \n",
            "  inflating: brain_tumor_dataset/train/yes/Y111.JPG  \n",
            "  inflating: brain_tumor_dataset/train/yes/Y112.JPG  \n",
            "  inflating: brain_tumor_dataset/train/yes/Y113.JPG  \n",
            "  inflating: brain_tumor_dataset/train/yes/Y114.JPG  \n",
            "  inflating: brain_tumor_dataset/train/yes/Y115.JPG  \n",
            "  inflating: brain_tumor_dataset/train/yes/Y116.JPG  \n",
            "  inflating: brain_tumor_dataset/train/yes/Y117.JPG  \n",
            "  inflating: brain_tumor_dataset/train/yes/Y12.jpg  \n",
            "  inflating: brain_tumor_dataset/train/yes/Y120.JPG  \n",
            "  inflating: brain_tumor_dataset/train/yes/Y13.jpg  \n",
            "  inflating: brain_tumor_dataset/train/yes/Y14.jpg  \n",
            "  inflating: brain_tumor_dataset/train/yes/Y146.JPG  \n",
            "  inflating: brain_tumor_dataset/train/yes/Y147.JPG  \n",
            "  inflating: brain_tumor_dataset/train/yes/Y148.JPG  \n",
            "  inflating: brain_tumor_dataset/train/yes/Y15.jpg  \n",
            "  inflating: brain_tumor_dataset/train/yes/Y153.jpg  \n",
            "  inflating: brain_tumor_dataset/train/yes/Y154.jpg  \n",
            "  inflating: brain_tumor_dataset/train/yes/Y155.JPG  \n",
            "  inflating: brain_tumor_dataset/train/yes/Y156.JPG  \n",
            "  inflating: brain_tumor_dataset/train/yes/Y157.JPG  \n",
            "  inflating: brain_tumor_dataset/train/yes/Y158.JPG  \n",
            "  inflating: brain_tumor_dataset/train/yes/Y159.JPG  \n",
            "  inflating: brain_tumor_dataset/train/yes/Y16.JPG  \n",
            "  inflating: brain_tumor_dataset/train/yes/Y160.JPG  \n",
            "  inflating: brain_tumor_dataset/train/yes/Y161.JPG  \n",
            "  inflating: brain_tumor_dataset/train/yes/Y167.JPG  \n",
            "  inflating: brain_tumor_dataset/train/yes/Y168.jpg  \n",
            "  inflating: brain_tumor_dataset/train/yes/Y169.jpg  \n",
            "  inflating: brain_tumor_dataset/train/yes/Y17.jpg  \n",
            "  inflating: brain_tumor_dataset/train/yes/Y170.JPG  \n",
            "  inflating: brain_tumor_dataset/train/yes/Y18.JPG  \n",
            "  inflating: brain_tumor_dataset/train/yes/Y180.jpg  \n",
            "  inflating: brain_tumor_dataset/train/yes/Y181.jpg  \n",
            "  inflating: brain_tumor_dataset/train/yes/Y182.JPG  \n",
            "  inflating: brain_tumor_dataset/train/yes/Y183.jpg  \n",
            "  inflating: brain_tumor_dataset/train/yes/Y184.JPG  \n",
            "  inflating: brain_tumor_dataset/train/yes/Y185.jpg  \n",
            "  inflating: brain_tumor_dataset/train/yes/Y186.jpg  \n",
            "  inflating: brain_tumor_dataset/train/yes/Y187.jpg  \n",
            "  inflating: brain_tumor_dataset/train/yes/Y188.jpg  \n",
            "  inflating: brain_tumor_dataset/train/yes/Y19.JPG  \n",
            "  inflating: brain_tumor_dataset/train/yes/Y192.JPG  \n",
            "  inflating: brain_tumor_dataset/train/yes/Y193.JPG  \n",
            "  inflating: brain_tumor_dataset/train/yes/Y194.jpg  \n",
            "  inflating: brain_tumor_dataset/train/yes/Y195.JPG  \n",
            "  inflating: brain_tumor_dataset/train/yes/Y20.jpg  \n",
            "  inflating: brain_tumor_dataset/train/yes/Y21.jpg  \n",
            "  inflating: brain_tumor_dataset/train/yes/Y22.jpg  \n",
            "  inflating: brain_tumor_dataset/train/yes/Y23.JPG  \n",
            "  inflating: brain_tumor_dataset/train/yes/Y24.jpg  \n",
            "  inflating: brain_tumor_dataset/train/yes/Y242.JPG  \n",
            "  inflating: brain_tumor_dataset/train/yes/Y243.JPG  \n",
            "  inflating: brain_tumor_dataset/train/yes/Y244.JPG  \n",
            "  inflating: brain_tumor_dataset/train/yes/Y245.jpg  \n",
            "  inflating: brain_tumor_dataset/train/yes/Y246.JPG  \n",
            "  inflating: brain_tumor_dataset/train/yes/Y247.JPG  \n",
            "  inflating: brain_tumor_dataset/train/yes/Y248.JPG  \n",
            "  inflating: brain_tumor_dataset/train/yes/Y249.JPG  \n",
            "  inflating: brain_tumor_dataset/train/yes/Y25.jpg  \n",
            " extracting: brain_tumor_dataset/train/yes/Y250.jpg  \n",
            "  inflating: brain_tumor_dataset/train/yes/Y251.JPG  \n",
            "  inflating: brain_tumor_dataset/train/yes/Y252.jpg  \n",
            "  inflating: brain_tumor_dataset/train/yes/Y253.JPG  \n",
            "  inflating: brain_tumor_dataset/train/yes/Y254.jpg  \n",
            "  inflating: brain_tumor_dataset/train/yes/Y255.JPG  \n",
            "  inflating: brain_tumor_dataset/train/yes/Y256.JPG  \n",
            "  inflating: brain_tumor_dataset/train/yes/Y257.jpg  \n",
            "  inflating: brain_tumor_dataset/train/yes/Y258.JPG  \n",
            "  inflating: brain_tumor_dataset/train/yes/Y259.JPG  \n",
            "  inflating: brain_tumor_dataset/train/yes/Y26.jpg  \n",
            "  inflating: brain_tumor_dataset/train/yes/Y27.jpg  \n",
            "  inflating: brain_tumor_dataset/train/yes/Y28.jpg  \n",
            "  inflating: brain_tumor_dataset/train/yes/Y29.jpg  \n",
            " extracting: brain_tumor_dataset/train/yes/Y30.jpg  \n",
            "  inflating: brain_tumor_dataset/train/yes/Y31.jpg  \n",
            "  inflating: brain_tumor_dataset/train/yes/Y32.jpg  \n",
            "  inflating: brain_tumor_dataset/train/yes/Y33.jpg  \n",
            "  inflating: brain_tumor_dataset/train/yes/Y34.jpg  \n",
            "  inflating: brain_tumor_dataset/train/yes/Y35.jpg  \n",
            "  inflating: brain_tumor_dataset/train/yes/Y36.JPG  \n",
            "  inflating: brain_tumor_dataset/train/yes/Y37.jpg  \n",
            " extracting: brain_tumor_dataset/train/yes/Y38.jpg  \n",
            "  inflating: brain_tumor_dataset/train/yes/Y39.jpg  \n",
            "  inflating: brain_tumor_dataset/train/yes/Y40.JPG  \n",
            "  inflating: brain_tumor_dataset/train/yes/Y41.jpg  \n",
            "  inflating: brain_tumor_dataset/train/yes/Y42.jpg  \n",
            "  inflating: brain_tumor_dataset/train/yes/Y44.JPG  \n",
            "  inflating: brain_tumor_dataset/train/yes/Y45.JPG  \n",
            "  inflating: brain_tumor_dataset/train/yes/Y46.jpg  \n",
            "  inflating: brain_tumor_dataset/train/yes/Y47.JPG  \n",
            "  inflating: brain_tumor_dataset/train/yes/Y49.JPG  \n",
            "  inflating: brain_tumor_dataset/train/yes/Y50.JPG  \n",
            "  inflating: brain_tumor_dataset/train/yes/Y51.jpg  \n",
            "  inflating: brain_tumor_dataset/train/yes/Y52.jpg  \n",
            "  inflating: brain_tumor_dataset/train/yes/Y53.jpg  \n",
            " extracting: brain_tumor_dataset/train/yes/Y54.jpg  \n",
            "  inflating: brain_tumor_dataset/train/yes/Y55.jpg  \n",
            "  inflating: brain_tumor_dataset/train/yes/Y56.jpg  \n",
            "  inflating: brain_tumor_dataset/train/yes/Y58.JPG  \n",
            "  inflating: brain_tumor_dataset/train/yes/Y59.JPG  \n",
            "  inflating: brain_tumor_dataset/train/yes/Y60.jpg  \n",
            "  inflating: brain_tumor_dataset/train/yes/Y61.jpg  \n",
            "  inflating: brain_tumor_dataset/train/yes/Y62.jpg  \n",
            "  inflating: brain_tumor_dataset/train/yes/Y65.JPG  \n",
            "  inflating: brain_tumor_dataset/train/yes/Y66.JPG  \n",
            "  inflating: brain_tumor_dataset/train/yes/Y67.JPG  \n",
            "  inflating: brain_tumor_dataset/train/yes/Y69.jpg  \n",
            "  inflating: brain_tumor_dataset/train/yes/Y7.jpg  \n",
            " extracting: brain_tumor_dataset/train/yes/Y70.jpg  \n",
            "  inflating: brain_tumor_dataset/train/yes/Y71.JPG  \n",
            "  inflating: brain_tumor_dataset/train/yes/Y73.jpg  \n",
            "  inflating: brain_tumor_dataset/train/yes/Y74.jpg  \n",
            "  inflating: brain_tumor_dataset/train/yes/Y75.JPG  \n",
            "  inflating: brain_tumor_dataset/train/yes/Y76.jpg  \n",
            "  inflating: brain_tumor_dataset/train/yes/Y8.jpg  \n",
            "  inflating: brain_tumor_dataset/train/yes/Y82.jpg  \n",
            "  inflating: brain_tumor_dataset/train/yes/Y85.JPG  \n",
            "  inflating: brain_tumor_dataset/train/yes/Y86.JPG  \n",
            "  inflating: brain_tumor_dataset/train/yes/Y89.JPG  \n",
            "  inflating: brain_tumor_dataset/train/yes/Y9.jpg  \n",
            "  inflating: brain_tumor_dataset/train/yes/Y90.jpg  \n",
            "  inflating: brain_tumor_dataset/train/yes/Y91.jpg  \n",
            "  inflating: brain_tumor_dataset/train/yes/Y92.jpg  \n",
            "  inflating: brain_tumor_dataset/train/yes/Y92.png  \n",
            "  inflating: brain_tumor_dataset/train/yes/Y95.jpg  \n",
            "  inflating: brain_tumor_dataset/train/yes/Y96.jpg  \n",
            "  inflating: brain_tumor_dataset/train/yes/Y97.JPG  \n",
            "  inflating: brain_tumor_dataset/train/yes/Y98.JPG  \n",
            "  inflating: brain_tumor_dataset/train/yes/Y99.JPG  \n",
            "   creating: brain_tumor_dataset/valid/\n",
            "  inflating: brain_tumor_dataset/valid/1 no.jpeg  \n",
            "  inflating: brain_tumor_dataset/valid/2 no.jpeg  \n",
            "  inflating: brain_tumor_dataset/valid/3 no.jpg  \n",
            "  inflating: brain_tumor_dataset/valid/4 no.jpg  \n",
            "  inflating: brain_tumor_dataset/valid/5 no.jpg  \n",
            "  inflating: brain_tumor_dataset/valid/no 3.jpg  \n",
            " extracting: brain_tumor_dataset/valid/no 4.jpg  \n",
            "  inflating: brain_tumor_dataset/valid/no 5.jpeg  \n",
            "  inflating: brain_tumor_dataset/valid/no 6.jpg  \n",
            "  inflating: brain_tumor_dataset/valid/no 7.jpeg  \n",
            "  inflating: brain_tumor_dataset/valid/Y1.jpg  \n",
            "  inflating: brain_tumor_dataset/valid/Y162.jpg  \n",
            "  inflating: brain_tumor_dataset/valid/Y163.JPG  \n",
            "  inflating: brain_tumor_dataset/valid/Y164.JPG  \n",
            "  inflating: brain_tumor_dataset/valid/Y165.JPG  \n",
            "  inflating: brain_tumor_dataset/valid/Y166.JPG  \n",
            "  inflating: brain_tumor_dataset/valid/Y2.jpg  \n",
            "  inflating: brain_tumor_dataset/valid/Y3.jpg  \n",
            "  inflating: brain_tumor_dataset/valid/Y4.jpg  \n",
            "  inflating: brain_tumor_dataset/valid/Y6.jpg  \n"
          ],
          "name": "stdout"
        }
      ]
    },
    {
      "cell_type": "code",
      "metadata": {
        "id": "szQq9WkRTITh",
        "colab_type": "code",
        "colab": {
          "base_uri": "https://localhost:8080/",
          "height": 219
        },
        "outputId": "8c7b5f43-b62f-4adf-ed88-5119e2644130"
      },
      "source": [
        "! unzip test.zip"
      ],
      "execution_count": 3,
      "outputs": [
        {
          "output_type": "stream",
          "text": [
            "Archive:  test.zip\n",
            "   creating: test/no/\n",
            " extracting: test/no/no (2).jpg      \n",
            "  inflating: test/no/no (3).JPG      \n",
            "  inflating: test/no/no.jpg          \n",
            "   creating: test/yes/\n",
            "  inflating: test/yes/yes (2).jpg    \n",
            "  inflating: test/yes/yes (3).JPG    \n",
            "  inflating: test/yes/yes (4).jpg    \n",
            "  inflating: test/yes/yes (5).jpg    \n",
            "  inflating: test/yes/yes.jpg        \n"
          ],
          "name": "stdout"
        }
      ]
    },
    {
      "cell_type": "code",
      "metadata": {
        "id": "ASYp3eWkTLOO",
        "colab_type": "code",
        "colab": {
          "base_uri": "https://localhost:8080/",
          "height": 439
        },
        "outputId": "dd423418-8447-4528-d22d-589051290aee"
      },
      "source": [
        "! unzip valid.zip"
      ],
      "execution_count": 4,
      "outputs": [
        {
          "output_type": "stream",
          "text": [
            "Archive:  valid.zip\n",
            "   creating: valid/no/\n",
            "  inflating: valid/no/1 no.jpeg      \n",
            "  inflating: valid/no/2 no.jpeg      \n",
            "  inflating: valid/no/3 no.jpg       \n",
            "  inflating: valid/no/4 no.jpg       \n",
            "  inflating: valid/no/5 no.jpg       \n",
            "  inflating: valid/no/no 3.jpg       \n",
            " extracting: valid/no/no 4.jpg       \n",
            "  inflating: valid/no/no 5.jpeg      \n",
            "  inflating: valid/no/no 6.jpg       \n",
            "  inflating: valid/no/no 7.jpeg      \n",
            "   creating: valid/yes/\n",
            "  inflating: valid/yes/Y1.jpg        \n",
            "  inflating: valid/yes/Y162.jpg      \n",
            "  inflating: valid/yes/Y163.JPG      \n",
            "  inflating: valid/yes/Y164.JPG      \n",
            "  inflating: valid/yes/Y165.JPG      \n",
            "  inflating: valid/yes/Y166.JPG      \n",
            "  inflating: valid/yes/Y2.jpg        \n",
            "  inflating: valid/yes/Y3.jpg        \n",
            "  inflating: valid/yes/Y4.jpg        \n",
            "  inflating: valid/yes/Y6.jpg        \n"
          ],
          "name": "stdout"
        }
      ]
    },
    {
      "cell_type": "code",
      "metadata": {
        "id": "-X_2uznqTmRv",
        "colab_type": "code",
        "colab": {
          "base_uri": "https://localhost:8080/",
          "height": 74
        },
        "outputId": "5fcfe7b1-fe5c-4edf-c018-f2a7b5244c84"
      },
      "source": [
        "from keras.applications import VGG16\n",
        "\n",
        "conv_base = VGG16(weights='imagenet',\n",
        "                  include_top=False,\n",
        "                  input_shape=(150, 150, 3))"
      ],
      "execution_count": 5,
      "outputs": [
        {
          "output_type": "stream",
          "text": [
            "Downloading data from https://storage.googleapis.com/tensorflow/keras-applications/vgg16/vgg16_weights_tf_dim_ordering_tf_kernels_notop.h5\n",
            "58892288/58889256 [==============================] - 0s 0us/step\n"
          ],
          "name": "stdout"
        }
      ]
    },
    {
      "cell_type": "code",
      "metadata": {
        "id": "e9mNwAh-MqXs",
        "colab_type": "code",
        "colab": {}
      },
      "source": [
        "from keras import models\n",
        "from keras import layers\n",
        "\n",
        "model = models.Sequential()\n",
        "model.add(conv_base)\n",
        "model.add(layers.Flatten())\n",
        "model.add(layers.Dense(256, activation='relu'))\n",
        "model.add(layers.Dense(1, activation='sigmoid'))"
      ],
      "execution_count": 6,
      "outputs": []
    },
    {
      "cell_type": "code",
      "metadata": {
        "id": "E-dyywh3QY-Q",
        "colab_type": "code",
        "colab": {
          "base_uri": "https://localhost:8080/",
          "height": 311
        },
        "outputId": "ed3ac421-44ae-4260-c46a-ef182b7ff360"
      },
      "source": [
        "model.summary()"
      ],
      "execution_count": 7,
      "outputs": [
        {
          "output_type": "stream",
          "text": [
            "Model: \"sequential\"\n",
            "_________________________________________________________________\n",
            "Layer (type)                 Output Shape              Param #   \n",
            "=================================================================\n",
            "vgg16 (Functional)           (None, 4, 4, 512)         14714688  \n",
            "_________________________________________________________________\n",
            "flatten (Flatten)            (None, 8192)              0         \n",
            "_________________________________________________________________\n",
            "dense (Dense)                (None, 256)               2097408   \n",
            "_________________________________________________________________\n",
            "dense_1 (Dense)              (None, 1)                 257       \n",
            "=================================================================\n",
            "Total params: 16,812,353\n",
            "Trainable params: 16,812,353\n",
            "Non-trainable params: 0\n",
            "_________________________________________________________________\n"
          ],
          "name": "stdout"
        }
      ]
    },
    {
      "cell_type": "code",
      "metadata": {
        "id": "VUGGNcQYQex3",
        "colab_type": "code",
        "colab": {
          "base_uri": "https://localhost:8080/",
          "height": 35
        },
        "outputId": "60c69241-b736-4c9f-d4dd-975b1faa9a9e"
      },
      "source": [
        "print('This is the number of trainable weights '\n",
        "      'before freezing the conv base:', len(model.trainable_weights))\n",
        "\n"
      ],
      "execution_count": 8,
      "outputs": [
        {
          "output_type": "stream",
          "text": [
            "This is the number of trainable weights before freezing the conv base: 30\n"
          ],
          "name": "stdout"
        }
      ]
    },
    {
      "cell_type": "code",
      "metadata": {
        "id": "UAs6XKjsQnWA",
        "colab_type": "code",
        "colab": {}
      },
      "source": [
        "conv_base.trainable = False"
      ],
      "execution_count": 9,
      "outputs": []
    },
    {
      "cell_type": "code",
      "metadata": {
        "id": "UrmgufVOQyIm",
        "colab_type": "code",
        "colab": {
          "base_uri": "https://localhost:8080/",
          "height": 35
        },
        "outputId": "32704a6f-48d5-4287-ca06-10f0a8e93170"
      },
      "source": [
        "print('This is the number of trainable weights '\n",
        "      'after freezing the conv base:', len(model.trainable_weights))"
      ],
      "execution_count": 10,
      "outputs": [
        {
          "output_type": "stream",
          "text": [
            "This is the number of trainable weights after freezing the conv base: 4\n"
          ],
          "name": "stdout"
        }
      ]
    },
    {
      "cell_type": "code",
      "metadata": {
        "id": "-xQWEIyPQ1qR",
        "colab_type": "code",
        "colab": {
          "base_uri": "https://localhost:8080/",
          "height": 1000
        },
        "outputId": "58dc64f2-2e9f-4c48-8e12-15cdadbd45a8"
      },
      "source": [
        "from keras.preprocessing.image import ImageDataGenerator\n",
        "from keras import optimizers\n",
        "\n",
        "train_datagen = ImageDataGenerator(\n",
        "      rescale=1./255,\n",
        "      rotation_range=40,\n",
        "      width_shift_range=0.2,\n",
        "      height_shift_range=0.2,\n",
        "      shear_range=0.2,\n",
        "      zoom_range=0.2,\n",
        "      horizontal_flip=True,\n",
        "      fill_mode='nearest')\n",
        "\n",
        "# Note that the validation data should not be augmented!\n",
        "test_datagen = ImageDataGenerator(rescale=1./255)\n",
        "\n",
        "train_generator = train_datagen.flow_from_directory(\n",
        "        # This is the target directory\n",
        "        '/content/brain_tumor_dataset/train',\n",
        "        # All images will be resized to 150x150\n",
        "        target_size=(150, 150),\n",
        "        batch_size=20,\n",
        "        # Since we use binary_crossentropy loss, we need binary labels\n",
        "        class_mode='binary')\n",
        "\n",
        "validation_generator = test_datagen.flow_from_directory(\n",
        "        '/content/valid',\n",
        "        target_size=(150, 150),\n",
        "        batch_size=20,\n",
        "        class_mode='binary')\n",
        "\n",
        "steps_per_epoch_training=len(train_generator)\n",
        "steps_per_epoch_validation= len(validation_generator)\n",
        "\n",
        "model.compile(loss='binary_crossentropy',\n",
        "              optimizer=optimizers.RMSprop(lr=2e-5),\n",
        "              metrics=['acc'])\n",
        "\n",
        "history = model.fit_generator(\n",
        "      train_generator,\n",
        "      steps_per_epoch=steps_per_epoch_training,\n",
        "      epochs=30,\n",
        "      validation_data=validation_generator,\n",
        "      validation_steps=steps_per_epoch_validation,\n",
        "      verbose=2)"
      ],
      "execution_count": 12,
      "outputs": [
        {
          "output_type": "stream",
          "text": [
            "Found 225 images belonging to 2 classes.\n",
            "Found 20 images belonging to 2 classes.\n",
            "WARNING:tensorflow:From <ipython-input-12-781e1011deda>:45: Model.fit_generator (from tensorflow.python.keras.engine.training) is deprecated and will be removed in a future version.\n",
            "Instructions for updating:\n",
            "Please use Model.fit, which supports generators.\n",
            "Epoch 1/30\n",
            "12/12 - 2s - loss: 0.7246 - acc: 0.5244 - val_loss: 0.7103 - val_acc: 0.5000\n",
            "Epoch 2/30\n",
            "12/12 - 2s - loss: 0.6459 - acc: 0.6400 - val_loss: 0.6945 - val_acc: 0.5000\n",
            "Epoch 3/30\n",
            "12/12 - 2s - loss: 0.6139 - acc: 0.6622 - val_loss: 0.6413 - val_acc: 0.5500\n",
            "Epoch 4/30\n",
            "12/12 - 2s - loss: 0.5802 - acc: 0.6844 - val_loss: 0.5901 - val_acc: 0.7000\n",
            "Epoch 5/30\n",
            "12/12 - 2s - loss: 0.5617 - acc: 0.7200 - val_loss: 0.5537 - val_acc: 0.8000\n",
            "Epoch 6/30\n",
            "12/12 - 2s - loss: 0.5576 - acc: 0.7067 - val_loss: 0.5425 - val_acc: 0.7000\n",
            "Epoch 7/30\n",
            "12/12 - 2s - loss: 0.5386 - acc: 0.7289 - val_loss: 0.5197 - val_acc: 0.8000\n",
            "Epoch 8/30\n",
            "12/12 - 2s - loss: 0.5500 - acc: 0.7022 - val_loss: 0.5478 - val_acc: 0.6500\n",
            "Epoch 9/30\n",
            "12/12 - 2s - loss: 0.5170 - acc: 0.7156 - val_loss: 0.4874 - val_acc: 0.8000\n",
            "Epoch 10/30\n",
            "12/12 - 2s - loss: 0.4983 - acc: 0.7644 - val_loss: 0.4890 - val_acc: 0.8000\n",
            "Epoch 11/30\n",
            "12/12 - 2s - loss: 0.4694 - acc: 0.8000 - val_loss: 0.4554 - val_acc: 0.8000\n",
            "Epoch 12/30\n",
            "12/12 - 2s - loss: 0.4903 - acc: 0.7378 - val_loss: 0.4459 - val_acc: 0.8000\n",
            "Epoch 13/30\n",
            "12/12 - 2s - loss: 0.4701 - acc: 0.7689 - val_loss: 0.4404 - val_acc: 0.8000\n",
            "Epoch 14/30\n",
            "12/12 - 2s - loss: 0.4744 - acc: 0.7867 - val_loss: 0.4452 - val_acc: 0.8500\n",
            "Epoch 15/30\n",
            "12/12 - 2s - loss: 0.4390 - acc: 0.8178 - val_loss: 0.4350 - val_acc: 0.9000\n",
            "Epoch 16/30\n",
            "12/12 - 2s - loss: 0.4594 - acc: 0.8133 - val_loss: 0.4534 - val_acc: 0.7500\n",
            "Epoch 17/30\n",
            "12/12 - 2s - loss: 0.4489 - acc: 0.8089 - val_loss: 0.4265 - val_acc: 0.8500\n",
            "Epoch 18/30\n",
            "12/12 - 2s - loss: 0.4576 - acc: 0.7911 - val_loss: 0.4093 - val_acc: 0.8500\n",
            "Epoch 19/30\n",
            "12/12 - 2s - loss: 0.4385 - acc: 0.8089 - val_loss: 0.4019 - val_acc: 0.8500\n",
            "Epoch 20/30\n",
            "12/12 - 2s - loss: 0.4341 - acc: 0.8044 - val_loss: 0.3800 - val_acc: 0.9000\n",
            "Epoch 21/30\n",
            "12/12 - 2s - loss: 0.4083 - acc: 0.8311 - val_loss: 0.3852 - val_acc: 0.8500\n",
            "Epoch 22/30\n",
            "12/12 - 2s - loss: 0.4256 - acc: 0.8133 - val_loss: 0.3970 - val_acc: 0.8000\n",
            "Epoch 23/30\n",
            "12/12 - 2s - loss: 0.3980 - acc: 0.8400 - val_loss: 0.3686 - val_acc: 0.8500\n",
            "Epoch 24/30\n",
            "12/12 - 2s - loss: 0.4081 - acc: 0.8133 - val_loss: 0.4083 - val_acc: 0.8000\n",
            "Epoch 25/30\n",
            "12/12 - 2s - loss: 0.4258 - acc: 0.7956 - val_loss: 0.3636 - val_acc: 0.8500\n",
            "Epoch 26/30\n",
            "12/12 - 2s - loss: 0.4122 - acc: 0.8356 - val_loss: 0.3588 - val_acc: 0.8500\n",
            "Epoch 27/30\n",
            "12/12 - 2s - loss: 0.3975 - acc: 0.8400 - val_loss: 0.3799 - val_acc: 0.8000\n",
            "Epoch 28/30\n",
            "12/12 - 2s - loss: 0.3863 - acc: 0.8578 - val_loss: 0.3851 - val_acc: 0.8000\n",
            "Epoch 29/30\n",
            "12/12 - 2s - loss: 0.3755 - acc: 0.8222 - val_loss: 0.3730 - val_acc: 0.8000\n",
            "Epoch 30/30\n",
            "12/12 - 2s - loss: 0.3688 - acc: 0.8311 - val_loss: 0.3502 - val_acc: 0.8000\n"
          ],
          "name": "stdout"
        }
      ]
    },
    {
      "cell_type": "code",
      "metadata": {
        "id": "_S2mZLlCRnqV",
        "colab_type": "code",
        "colab": {
          "base_uri": "https://localhost:8080/",
          "height": 545
        },
        "outputId": "dae159fd-b18c-43cf-b36f-fd77bd2d9fd0"
      },
      "source": [
        "import matplotlib.pyplot as plt\n",
        "\n",
        "acc = history.history['acc']\n",
        "val_acc = history.history['val_acc']\n",
        "loss = history.history['loss']\n",
        "val_loss = history.history['val_loss']\n",
        "\n",
        "epochs = range(len(acc))\n",
        "\n",
        "plt.plot(epochs, acc, 'bo', label='Training acc')\n",
        "plt.plot(epochs, val_acc, 'b', label='Validation acc')\n",
        "plt.title('Training and validation accuracy')\n",
        "plt.legend()\n",
        "\n",
        "plt.figure()\n",
        "\n",
        "plt.plot(epochs, loss, 'bo', label='Training loss')\n",
        "plt.plot(epochs, val_loss, 'b', label='Validation loss')\n",
        "plt.title('Training and validation loss')\n",
        "plt.legend()\n",
        "\n",
        "plt.show()\n",
        "\n"
      ],
      "execution_count": 14,
      "outputs": [
        {
          "output_type": "display_data",
          "data": {
            "image/png": "[encoded data removed]",
            "text/plain": [
              "<Figure size 432x288 with 1 Axes>"
            ]
          },
          "metadata": {
            "tags": [],
            "needs_background": "light"
          }
        },
        {
          "output_type": "display_data",
          "data": {
            "image/png": "[encoded data removed]",
            "text/plain": [
              "<Figure size 432x288 with 1 Axes>"
            ]
          },
          "metadata": {
            "tags": [],
            "needs_background": "light"
          }
        }
      ]
    },
    {
      "cell_type": "code",
      "metadata": {
        "id": "lFyJO5voUMj4",
        "colab_type": "code",
        "colab": {
          "base_uri": "https://localhost:8080/",
          "height": 129
        },
        "outputId": "69f54b74-0960-4a66-fb91-d631fa4e4e70"
      },
      "source": [
        "test_generator = test_datagen.flow_from_directory(\n",
        "        '/content/test',\n",
        "        target_size=(150, 150),\n",
        "        batch_size=1,\n",
        "        class_mode='binary')\n",
        "steps_per_epoch_test=len(test_generator)\n",
        "\n",
        "test_loss, test_acc = model.evaluate_generator(test_generator, steps=steps_per_epoch_test)\n",
        "print('test acc:', test_acc)"
      ],
      "execution_count": 15,
      "outputs": [
        {
          "output_type": "stream",
          "text": [
            "Found 8 images belonging to 2 classes.\n",
            "WARNING:tensorflow:From <ipython-input-15-93178e89c841>:8: Model.evaluate_generator (from tensorflow.python.keras.engine.training) is deprecated and will be removed in a future version.\n",
            "Instructions for updating:\n",
            "Please use Model.evaluate, which supports generators.\n",
            "test acc: 0.875\n"
          ],
          "name": "stdout"
        }
      ]
    },
    {
      "cell_type": "code",
      "metadata": {
        "id": "JRyTJOtvUyWR",
        "colab_type": "code",
        "colab": {}
      },
      "source": [
        "model.save(\"Tumor detection using pretrained vgg16.h5\")"
      ],
      "execution_count": 16,
      "outputs": []
    },
    {
      "cell_type": "markdown",
      "metadata": {
        "id": "Ff9MVlmhV4vK",
        "colab_type": "text"
      },
      "source": [
        "**We got the accuracy of 87.5% using a pretrained model Vgg16 , next we will fine tune this model to see is their any scope to increase the performance of this medel**"
      ]
    },
    {
      "cell_type": "code",
      "metadata": {
        "id": "fIFT461aVE9e",
        "colab_type": "code",
        "colab": {
          "base_uri": "https://localhost:8080/",
          "height": 862
        },
        "outputId": "217b8aef-1f8f-40d5-efb6-fe93cc412f9e"
      },
      "source": [
        "conv_base.summary()"
      ],
      "execution_count": 17,
      "outputs": [
        {
          "output_type": "stream",
          "text": [
            "Model: \"vgg16\"\n",
            "_________________________________________________________________\n",
            "Layer (type)                 Output Shape              Param #   \n",
            "=================================================================\n",
            "input_1 (InputLayer)         [(None, 150, 150, 3)]     0         \n",
            "_________________________________________________________________\n",
            "block1_conv1 (Conv2D)        (None, 150, 150, 64)      1792      \n",
            "_________________________________________________________________\n",
            "block1_conv2 (Conv2D)        (None, 150, 150, 64)      36928     \n",
            "_________________________________________________________________\n",
            "block1_pool (MaxPooling2D)   (None, 75, 75, 64)        0         \n",
            "_________________________________________________________________\n",
            "block2_conv1 (Conv2D)        (None, 75, 75, 128)       73856     \n",
            "_________________________________________________________________\n",
            "block2_conv2 (Conv2D)        (None, 75, 75, 128)       147584    \n",
            "_________________________________________________________________\n",
            "block2_pool (MaxPooling2D)   (None, 37, 37, 128)       0         \n",
            "_________________________________________________________________\n",
            "block3_conv1 (Conv2D)        (None, 37, 37, 256)       295168    \n",
            "_________________________________________________________________\n",
            "block3_conv2 (Conv2D)        (None, 37, 37, 256)       590080    \n",
            "_________________________________________________________________\n",
            "block3_conv3 (Conv2D)        (None, 37, 37, 256)       590080    \n",
            "_________________________________________________________________\n",
            "block3_pool (MaxPooling2D)   (None, 18, 18, 256)       0         \n",
            "_________________________________________________________________\n",
            "block4_conv1 (Conv2D)        (None, 18, 18, 512)       1180160   \n",
            "_________________________________________________________________\n",
            "block4_conv2 (Conv2D)        (None, 18, 18, 512)       2359808   \n",
            "_________________________________________________________________\n",
            "block4_conv3 (Conv2D)        (None, 18, 18, 512)       2359808   \n",
            "_________________________________________________________________\n",
            "block4_pool (MaxPooling2D)   (None, 9, 9, 512)         0         \n",
            "_________________________________________________________________\n",
            "block5_conv1 (Conv2D)        (None, 9, 9, 512)         2359808   \n",
            "_________________________________________________________________\n",
            "block5_conv2 (Conv2D)        (None, 9, 9, 512)         2359808   \n",
            "_________________________________________________________________\n",
            "block5_conv3 (Conv2D)        (None, 9, 9, 512)         2359808   \n",
            "_________________________________________________________________\n",
            "block5_pool (MaxPooling2D)   (None, 4, 4, 512)         0         \n",
            "=================================================================\n",
            "Total params: 14,714,688\n",
            "Trainable params: 0\n",
            "Non-trainable params: 14,714,688\n",
            "_________________________________________________________________\n"
          ],
          "name": "stdout"
        }
      ]
    },
    {
      "cell_type": "markdown",
      "metadata": {
        "id": "vhC97Oa8W2in",
        "colab_type": "text"
      },
      "source": [
        "we will freeze all the convolutional block to block4 and fine fine tune only block5 to extract more imp features from image and add lastly after flattening we will add our densely connected classifier to classify b/w Tumor or non Tumor image"
      ]
    },
    {
      "cell_type": "code",
      "metadata": {
        "id": "oKaO0lDqWwjS",
        "colab_type": "code",
        "colab": {}
      },
      "source": [
        "conv_base.trainable = True\n",
        "\n",
        "set_trainable = False\n",
        "for layer in conv_base.layers:\n",
        "    if layer.name == 'block5_conv1':\n",
        "        set_trainable = True\n",
        "    if set_trainable:\n",
        "        layer.trainable = True\n",
        "    else:\n",
        "        layer.trainable = False"
      ],
      "execution_count": 18,
      "outputs": []
    },
    {
      "cell_type": "code",
      "metadata": {
        "id": "5GBytI6gXfXi",
        "colab_type": "code",
        "colab": {
          "base_uri": "https://localhost:8080/",
          "height": 1000
        },
        "outputId": "af05aa40-ac12-464b-a6fa-a1a43ad6e2a3"
      },
      "source": [
        "model.compile(loss='binary_crossentropy',\n",
        "              optimizer=optimizers.RMSprop(lr=1e-5),\n",
        "              metrics=['acc'])\n",
        "\n",
        "history = model.fit_generator(\n",
        "      train_generator,\n",
        "      steps_per_epoch=steps_per_epoch_training,\n",
        "      epochs=100,\n",
        "      validation_data=validation_generator,\n",
        "      validation_steps=steps_per_epoch_validation,\n",
        "      verbose=1)\n",
        "\n"
      ],
      "execution_count": 21,
      "outputs": [
        {
          "output_type": "stream",
          "text": [
            "Epoch 1/100\n",
            "12/12 [==============================] - 2s 181ms/step - loss: 0.4288 - acc: 0.7733 - val_loss: 0.3671 - val_acc: 0.8000\n",
            "Epoch 2/100\n",
            "12/12 [==============================] - 2s 175ms/step - loss: 0.3274 - acc: 0.8667 - val_loss: 0.2755 - val_acc: 0.9000\n",
            "Epoch 3/100\n",
            "12/12 [==============================] - 2s 162ms/step - loss: 0.3233 - acc: 0.8533 - val_loss: 0.2988 - val_acc: 0.8000\n",
            "Epoch 4/100\n",
            "12/12 [==============================] - 2s 164ms/step - loss: 0.3242 - acc: 0.8444 - val_loss: 0.2181 - val_acc: 0.9500\n",
            "Epoch 5/100\n",
            "12/12 [==============================] - 2s 166ms/step - loss: 0.2596 - acc: 0.8978 - val_loss: 0.2065 - val_acc: 0.9500\n",
            "Epoch 6/100\n",
            "12/12 [==============================] - 2s 160ms/step - loss: 0.3143 - acc: 0.8800 - val_loss: 0.6502 - val_acc: 0.7500\n",
            "Epoch 7/100\n",
            "12/12 [==============================] - 2s 162ms/step - loss: 0.3137 - acc: 0.8489 - val_loss: 0.3734 - val_acc: 0.8000\n",
            "Epoch 8/100\n",
            "12/12 [==============================] - 2s 164ms/step - loss: 0.2703 - acc: 0.8756 - val_loss: 0.1853 - val_acc: 0.9500\n",
            "Epoch 9/100\n",
            "12/12 [==============================] - 2s 162ms/step - loss: 0.2434 - acc: 0.9156 - val_loss: 0.3064 - val_acc: 0.8000\n",
            "Epoch 10/100\n",
            "12/12 [==============================] - 2s 163ms/step - loss: 0.2506 - acc: 0.8933 - val_loss: 0.1926 - val_acc: 0.9500\n",
            "Epoch 11/100\n",
            "12/12 [==============================] - 2s 162ms/step - loss: 0.2220 - acc: 0.9022 - val_loss: 0.2183 - val_acc: 0.8500\n",
            "Epoch 12/100\n",
            "12/12 [==============================] - 2s 164ms/step - loss: 0.2066 - acc: 0.9200 - val_loss: 0.2146 - val_acc: 0.9500\n",
            "Epoch 13/100\n",
            "12/12 [==============================] - 2s 163ms/step - loss: 0.2333 - acc: 0.9022 - val_loss: 0.2068 - val_acc: 0.9000\n",
            "Epoch 14/100\n",
            "12/12 [==============================] - 2s 163ms/step - loss: 0.2204 - acc: 0.9111 - val_loss: 0.2561 - val_acc: 0.8500\n",
            "Epoch 15/100\n",
            "12/12 [==============================] - 2s 161ms/step - loss: 0.1887 - acc: 0.9289 - val_loss: 0.3783 - val_acc: 0.8000\n",
            "Epoch 16/100\n",
            "12/12 [==============================] - 2s 163ms/step - loss: 0.1782 - acc: 0.9422 - val_loss: 0.1912 - val_acc: 0.9000\n",
            "Epoch 17/100\n",
            "12/12 [==============================] - 2s 164ms/step - loss: 0.2043 - acc: 0.9200 - val_loss: 0.1747 - val_acc: 0.9500\n",
            "Epoch 18/100\n",
            "12/12 [==============================] - 2s 164ms/step - loss: 0.1837 - acc: 0.9200 - val_loss: 0.1305 - val_acc: 1.0000\n",
            "Epoch 19/100\n",
            "12/12 [==============================] - 2s 161ms/step - loss: 0.1996 - acc: 0.9333 - val_loss: 0.1717 - val_acc: 0.9000\n",
            "Epoch 20/100\n",
            "12/12 [==============================] - 2s 164ms/step - loss: 0.1558 - acc: 0.9422 - val_loss: 0.1684 - val_acc: 0.9000\n",
            "Epoch 21/100\n",
            "12/12 [==============================] - 2s 159ms/step - loss: 0.1505 - acc: 0.9556 - val_loss: 0.1669 - val_acc: 0.9000\n",
            "Epoch 22/100\n",
            "12/12 [==============================] - 2s 173ms/step - loss: 0.1477 - acc: 0.9333 - val_loss: 0.1264 - val_acc: 1.0000\n",
            "Epoch 23/100\n",
            "12/12 [==============================] - 2s 164ms/step - loss: 0.1399 - acc: 0.9467 - val_loss: 0.1237 - val_acc: 1.0000\n",
            "Epoch 24/100\n",
            "12/12 [==============================] - 2s 162ms/step - loss: 0.1462 - acc: 0.9378 - val_loss: 0.1285 - val_acc: 1.0000\n",
            "Epoch 25/100\n",
            "12/12 [==============================] - 2s 164ms/step - loss: 0.1447 - acc: 0.9556 - val_loss: 0.1125 - val_acc: 1.0000\n",
            "Epoch 26/100\n",
            "12/12 [==============================] - 2s 166ms/step - loss: 0.1365 - acc: 0.9600 - val_loss: 0.1232 - val_acc: 1.0000\n",
            "Epoch 27/100\n",
            "12/12 [==============================] - 2s 165ms/step - loss: 0.1260 - acc: 0.9333 - val_loss: 0.1466 - val_acc: 0.9500\n",
            "Epoch 28/100\n",
            "12/12 [==============================] - 2s 171ms/step - loss: 0.1466 - acc: 0.9333 - val_loss: 0.1466 - val_acc: 0.9000\n",
            "Epoch 29/100\n",
            "12/12 [==============================] - 2s 162ms/step - loss: 0.1785 - acc: 0.9289 - val_loss: 0.2170 - val_acc: 0.8500\n",
            "Epoch 30/100\n",
            "12/12 [==============================] - 2s 166ms/step - loss: 0.1188 - acc: 0.9600 - val_loss: 0.1224 - val_acc: 1.0000\n",
            "Epoch 31/100\n",
            "12/12 [==============================] - 2s 169ms/step - loss: 0.1394 - acc: 0.9467 - val_loss: 0.1812 - val_acc: 0.9000\n",
            "Epoch 32/100\n",
            "12/12 [==============================] - 2s 168ms/step - loss: 0.1316 - acc: 0.9600 - val_loss: 0.1541 - val_acc: 0.9500\n",
            "Epoch 33/100\n",
            "12/12 [==============================] - 2s 169ms/step - loss: 0.1315 - acc: 0.9511 - val_loss: 0.1203 - val_acc: 1.0000\n",
            "Epoch 34/100\n",
            "12/12 [==============================] - 2s 164ms/step - loss: 0.1259 - acc: 0.9467 - val_loss: 0.1368 - val_acc: 0.9500\n",
            "Epoch 35/100\n",
            "12/12 [==============================] - 2s 166ms/step - loss: 0.1462 - acc: 0.9378 - val_loss: 0.1497 - val_acc: 0.9500\n",
            "Epoch 36/100\n",
            "12/12 [==============================] - 2s 164ms/step - loss: 0.1158 - acc: 0.9422 - val_loss: 0.1498 - val_acc: 0.9500\n",
            "Epoch 37/100\n",
            "12/12 [==============================] - 2s 162ms/step - loss: 0.1024 - acc: 0.9644 - val_loss: 0.1597 - val_acc: 0.9500\n",
            "Epoch 38/100\n",
            "12/12 [==============================] - 2s 161ms/step - loss: 0.0823 - acc: 0.9644 - val_loss: 0.2455 - val_acc: 0.8500\n",
            "Epoch 39/100\n",
            "12/12 [==============================] - 2s 176ms/step - loss: 0.0940 - acc: 0.9644 - val_loss: 0.2172 - val_acc: 0.8500\n",
            "Epoch 40/100\n",
            "12/12 [==============================] - 2s 173ms/step - loss: 0.1015 - acc: 0.9644 - val_loss: 0.1236 - val_acc: 0.9500\n",
            "Epoch 41/100\n",
            "12/12 [==============================] - 2s 164ms/step - loss: 0.0856 - acc: 0.9689 - val_loss: 0.3454 - val_acc: 0.8000\n",
            "Epoch 42/100\n",
            "12/12 [==============================] - 2s 169ms/step - loss: 0.1195 - acc: 0.9511 - val_loss: 0.2156 - val_acc: 0.8500\n",
            "Epoch 43/100\n",
            "12/12 [==============================] - 2s 165ms/step - loss: 0.0691 - acc: 0.9689 - val_loss: 0.1238 - val_acc: 0.9500\n",
            "Epoch 44/100\n",
            "12/12 [==============================] - 2s 159ms/step - loss: 0.1047 - acc: 0.9778 - val_loss: 0.2399 - val_acc: 0.9000\n",
            "Epoch 45/100\n",
            "12/12 [==============================] - 2s 165ms/step - loss: 0.0723 - acc: 0.9733 - val_loss: 0.1478 - val_acc: 0.9000\n",
            "Epoch 46/100\n",
            "12/12 [==============================] - 2s 162ms/step - loss: 0.0860 - acc: 0.9778 - val_loss: 0.1289 - val_acc: 0.9500\n",
            "Epoch 47/100\n",
            "12/12 [==============================] - 2s 164ms/step - loss: 0.0812 - acc: 0.9689 - val_loss: 0.1694 - val_acc: 0.9500\n",
            "Epoch 48/100\n",
            "12/12 [==============================] - 2s 161ms/step - loss: 0.0483 - acc: 0.9956 - val_loss: 0.3171 - val_acc: 0.8000\n",
            "Epoch 49/100\n",
            "12/12 [==============================] - 2s 175ms/step - loss: 0.0575 - acc: 0.9911 - val_loss: 0.1472 - val_acc: 0.9000\n",
            "Epoch 50/100\n",
            "12/12 [==============================] - 2s 165ms/step - loss: 0.0528 - acc: 0.9778 - val_loss: 0.3556 - val_acc: 0.8500\n",
            "Epoch 51/100\n",
            "12/12 [==============================] - 2s 165ms/step - loss: 0.0953 - acc: 0.9600 - val_loss: 0.2367 - val_acc: 0.8500\n",
            "Epoch 52/100\n",
            "12/12 [==============================] - 2s 163ms/step - loss: 0.0584 - acc: 0.9911 - val_loss: 0.2176 - val_acc: 0.9000\n",
            "Epoch 53/100\n",
            "12/12 [==============================] - 2s 163ms/step - loss: 0.0680 - acc: 0.9600 - val_loss: 0.2560 - val_acc: 0.9000\n",
            "Epoch 54/100\n",
            "12/12 [==============================] - 2s 164ms/step - loss: 0.0806 - acc: 0.9644 - val_loss: 0.1862 - val_acc: 0.9000\n",
            "Epoch 55/100\n",
            "12/12 [==============================] - 2s 162ms/step - loss: 0.0401 - acc: 0.9956 - val_loss: 0.1591 - val_acc: 0.9000\n",
            "Epoch 56/100\n",
            "12/12 [==============================] - 2s 162ms/step - loss: 0.0784 - acc: 0.9778 - val_loss: 0.1902 - val_acc: 0.9000\n",
            "Epoch 57/100\n",
            "12/12 [==============================] - 2s 163ms/step - loss: 0.0514 - acc: 0.9822 - val_loss: 0.2280 - val_acc: 0.8500\n",
            "Epoch 58/100\n",
            "12/12 [==============================] - 2s 165ms/step - loss: 0.0602 - acc: 0.9778 - val_loss: 0.1849 - val_acc: 0.9000\n",
            "Epoch 59/100\n",
            "12/12 [==============================] - 2s 163ms/step - loss: 0.0749 - acc: 0.9689 - val_loss: 0.1955 - val_acc: 0.9000\n",
            "Epoch 60/100\n",
            "12/12 [==============================] - 2s 164ms/step - loss: 0.0651 - acc: 0.9733 - val_loss: 0.1850 - val_acc: 0.9500\n",
            "Epoch 61/100\n",
            "12/12 [==============================] - 2s 166ms/step - loss: 0.0958 - acc: 0.9689 - val_loss: 0.1674 - val_acc: 0.9500\n",
            "Epoch 62/100\n",
            "12/12 [==============================] - 2s 163ms/step - loss: 0.0562 - acc: 0.9778 - val_loss: 0.1973 - val_acc: 0.9500\n",
            "Epoch 63/100\n",
            "12/12 [==============================] - 2s 168ms/step - loss: 0.0452 - acc: 0.9911 - val_loss: 0.2667 - val_acc: 0.9000\n",
            "Epoch 64/100\n",
            "12/12 [==============================] - 2s 171ms/step - loss: 0.0621 - acc: 0.9778 - val_loss: 0.1772 - val_acc: 0.9000\n",
            "Epoch 65/100\n",
            "12/12 [==============================] - 2s 170ms/step - loss: 0.0852 - acc: 0.9644 - val_loss: 0.2694 - val_acc: 0.8500\n",
            "Epoch 66/100\n",
            "12/12 [==============================] - 2s 167ms/step - loss: 0.0787 - acc: 0.9689 - val_loss: 0.2068 - val_acc: 0.9500\n",
            "Epoch 67/100\n",
            "12/12 [==============================] - 2s 177ms/step - loss: 0.0380 - acc: 0.9956 - val_loss: 0.2747 - val_acc: 0.9000\n",
            "Epoch 68/100\n",
            "12/12 [==============================] - 2s 163ms/step - loss: 0.0625 - acc: 0.9822 - val_loss: 0.2856 - val_acc: 0.8500\n",
            "Epoch 69/100\n",
            "12/12 [==============================] - 2s 163ms/step - loss: 0.0431 - acc: 0.9822 - val_loss: 0.2128 - val_acc: 0.9000\n",
            "Epoch 70/100\n",
            "12/12 [==============================] - 2s 162ms/step - loss: 0.0450 - acc: 0.9822 - val_loss: 0.2573 - val_acc: 0.8000\n",
            "Epoch 71/100\n",
            "12/12 [==============================] - 2s 176ms/step - loss: 0.0317 - acc: 0.9956 - val_loss: 0.2558 - val_acc: 0.8500\n",
            "Epoch 72/100\n",
            "12/12 [==============================] - 2s 164ms/step - loss: 0.0473 - acc: 0.9822 - val_loss: 0.2130 - val_acc: 0.9000\n",
            "Epoch 73/100\n",
            "12/12 [==============================] - 2s 161ms/step - loss: 0.0444 - acc: 0.9822 - val_loss: 0.1819 - val_acc: 0.8500\n",
            "Epoch 74/100\n",
            "12/12 [==============================] - 2s 162ms/step - loss: 0.0382 - acc: 0.9867 - val_loss: 0.3069 - val_acc: 0.8500\n",
            "Epoch 75/100\n",
            "12/12 [==============================] - 2s 165ms/step - loss: 0.0427 - acc: 0.9867 - val_loss: 0.2648 - val_acc: 0.9500\n",
            "Epoch 76/100\n",
            "12/12 [==============================] - 2s 164ms/step - loss: 0.0284 - acc: 0.9956 - val_loss: 0.2301 - val_acc: 0.9000\n",
            "Epoch 77/100\n",
            "12/12 [==============================] - 2s 164ms/step - loss: 0.0233 - acc: 0.9956 - val_loss: 0.2307 - val_acc: 0.8500\n",
            "Epoch 78/100\n",
            "12/12 [==============================] - 2s 163ms/step - loss: 0.0410 - acc: 0.9822 - val_loss: 0.1197 - val_acc: 0.9500\n",
            "Epoch 79/100\n",
            "12/12 [==============================] - 2s 163ms/step - loss: 0.0417 - acc: 0.9867 - val_loss: 0.1780 - val_acc: 0.9500\n",
            "Epoch 80/100\n",
            "12/12 [==============================] - 2s 165ms/step - loss: 0.0168 - acc: 1.0000 - val_loss: 0.2466 - val_acc: 0.8500\n",
            "Epoch 81/100\n",
            "12/12 [==============================] - 2s 164ms/step - loss: 0.0516 - acc: 0.9822 - val_loss: 0.2541 - val_acc: 0.9000\n",
            "Epoch 82/100\n",
            "12/12 [==============================] - 2s 164ms/step - loss: 0.0234 - acc: 1.0000 - val_loss: 0.2390 - val_acc: 0.9000\n",
            "Epoch 83/100\n",
            "12/12 [==============================] - 2s 163ms/step - loss: 0.0213 - acc: 0.9956 - val_loss: 0.3103 - val_acc: 0.9000\n",
            "Epoch 84/100\n",
            "12/12 [==============================] - 2s 163ms/step - loss: 0.0313 - acc: 0.9867 - val_loss: 0.3580 - val_acc: 0.8500\n",
            "Epoch 85/100\n",
            "12/12 [==============================] - 2s 166ms/step - loss: 0.0382 - acc: 0.9822 - val_loss: 0.2706 - val_acc: 0.9000\n",
            "Epoch 86/100\n",
            "12/12 [==============================] - 2s 165ms/step - loss: 0.0412 - acc: 0.9867 - val_loss: 0.2743 - val_acc: 0.8000\n",
            "Epoch 87/100\n",
            "12/12 [==============================] - 2s 165ms/step - loss: 0.0179 - acc: 0.9956 - val_loss: 0.2583 - val_acc: 0.9000\n",
            "Epoch 88/100\n",
            "12/12 [==============================] - 2s 163ms/step - loss: 0.0267 - acc: 0.9867 - val_loss: 0.3562 - val_acc: 0.8500\n",
            "Epoch 89/100\n",
            "12/12 [==============================] - 2s 166ms/step - loss: 0.0270 - acc: 0.9867 - val_loss: 0.3161 - val_acc: 0.8000\n",
            "Epoch 90/100\n",
            "12/12 [==============================] - 2s 166ms/step - loss: 0.0300 - acc: 0.9867 - val_loss: 0.2038 - val_acc: 0.9000\n",
            "Epoch 91/100\n",
            "12/12 [==============================] - 2s 177ms/step - loss: 0.0300 - acc: 0.9911 - val_loss: 0.2449 - val_acc: 0.9000\n",
            "Epoch 92/100\n",
            "12/12 [==============================] - 2s 165ms/step - loss: 0.0263 - acc: 0.9956 - val_loss: 0.2917 - val_acc: 0.8000\n",
            "Epoch 93/100\n",
            "12/12 [==============================] - 2s 165ms/step - loss: 0.0308 - acc: 0.9956 - val_loss: 0.3762 - val_acc: 0.8000\n",
            "Epoch 94/100\n",
            "12/12 [==============================] - 2s 164ms/step - loss: 0.0120 - acc: 1.0000 - val_loss: 0.4084 - val_acc: 0.8000\n",
            "Epoch 95/100\n",
            "12/12 [==============================] - 2s 164ms/step - loss: 0.0668 - acc: 0.9733 - val_loss: 0.3225 - val_acc: 0.8000\n",
            "Epoch 96/100\n",
            "12/12 [==============================] - 2s 165ms/step - loss: 0.0189 - acc: 0.9956 - val_loss: 0.3130 - val_acc: 0.8500\n",
            "Epoch 97/100\n",
            "12/12 [==============================] - 2s 163ms/step - loss: 0.0345 - acc: 0.9911 - val_loss: 0.4887 - val_acc: 0.8500\n",
            "Epoch 98/100\n",
            "12/12 [==============================] - 2s 165ms/step - loss: 0.0804 - acc: 0.9600 - val_loss: 0.3868 - val_acc: 0.8000\n",
            "Epoch 99/100\n",
            "12/12 [==============================] - 2s 166ms/step - loss: 0.0251 - acc: 0.9956 - val_loss: 0.2963 - val_acc: 0.8500\n",
            "Epoch 100/100\n",
            "12/12 [==============================] - 2s 166ms/step - loss: 0.0414 - acc: 0.9822 - val_loss: 0.3295 - val_acc: 0.8000\n"
          ],
          "name": "stdout"
        }
      ]
    },
    {
      "cell_type": "code",
      "metadata": {
        "id": "bDnYgi-2Xr0u",
        "colab_type": "code",
        "colab": {
          "base_uri": "https://localhost:8080/",
          "height": 545
        },
        "outputId": "378d4fd4-ea1b-40a9-a9e0-aa7cdf8d9d3f"
      },
      "source": [
        "acc = history.history['acc']\n",
        "val_acc = history.history['val_acc']\n",
        "loss = history.history['loss']\n",
        "val_loss = history.history['val_loss']\n",
        "\n",
        "epochs = range(len(acc))\n",
        "\n",
        "plt.plot(epochs, acc, 'bo', label='Training acc')\n",
        "plt.plot(epochs, val_acc, 'b', label='Validation acc')\n",
        "plt.title('Training and validation accuracy')\n",
        "plt.legend()\n",
        "\n",
        "plt.figure()\n",
        "\n",
        "plt.plot(epochs, loss, 'bo', label='Training loss')\n",
        "plt.plot(epochs, val_loss, 'b', label='Validation loss')\n",
        "plt.title('Training and validation loss')\n",
        "plt.legend()\n",
        "\n",
        "plt.show()\n",
        "\n"
      ],
      "execution_count": 22,
      "outputs": [
        {
          "output_type": "display_data",
          "data": {
            "image/png": "[encoded data removed]",
            "text/plain": [
              "<Figure size 432x288 with 1 Axes>"
            ]
          },
          "metadata": {
            "tags": [],
            "needs_background": "light"
          }
        },
        {
          "output_type": "display_data",
          "data": {
            "image/png": "[encoded data removed]",
            "text/plain": [
              "<Figure size 432x288 with 1 Axes>"
            ]
          },
          "metadata": {
            "tags": [],
            "needs_background": "light"
          }
        }
      ]
    },
    {
      "cell_type": "code",
      "metadata": {
        "id": "HWunzD6wY7-y",
        "colab_type": "code",
        "colab": {
          "base_uri": "https://localhost:8080/",
          "height": 54
        },
        "outputId": "de8c3cda-8426-48b4-ddf6-54a1b5ca37a3"
      },
      "source": [
        "test_generator = test_datagen.flow_from_directory(\n",
        "        '/content/test',\n",
        "        target_size=(150, 150),\n",
        "        batch_size=1,\n",
        "        class_mode='binary')\n",
        "steps_per_epoch_test=len(test_generator)\n",
        "\n",
        "test_loss, test_acc = model.evaluate_generator(test_generator, steps=steps_per_epoch_test)\n",
        "print('test acc:', test_acc)"
      ],
      "execution_count": 29,
      "outputs": [
        {
          "output_type": "stream",
          "text": [
            "Found 17 images belonging to 2 classes.\n",
            "test acc: 1.0\n"
          ],
          "name": "stdout"
        }
      ]
    },
    {
      "cell_type": "code",
      "metadata": {
        "id": "CClKrLm0ZNSP",
        "colab_type": "code",
        "colab": {}
      },
      "source": [
        "model.save(\"Fine Tuned model.h5\")"
      ],
      "execution_count": 30,
      "outputs": []
    },
    {
      "cell_type": "code",
      "metadata": {
        "id": "vCnGj0WYdPGy",
        "colab_type": "code",
        "colab": {}
      },
      "source": [
        ""
      ],
      "execution_count": null,
      "outputs": []
    }
  ]
}